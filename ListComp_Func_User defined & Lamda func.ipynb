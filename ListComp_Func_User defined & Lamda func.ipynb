{
 "cells": [
  {
   "cell_type": "markdown",
   "id": "f0d6665c",
   "metadata": {},
   "source": [
    "# List "
   ]
  },
  {
   "cell_type": "code",
   "execution_count": 3,
   "id": "d2b5196f",
   "metadata": {},
   "outputs": [
    {
     "name": "stdout",
     "output_type": "stream",
     "text": [
      "[1, 4, 9, 16, 25, 36, 49, 64, 81, 100]\n"
     ]
    }
   ],
   "source": [
    "num = []\n",
    "for i in range(1,11):\n",
    "    num.append(i*i)\n",
    "print(num)"
   ]
  },
  {
   "cell_type": "code",
   "execution_count": 5,
   "id": "b13871ba",
   "metadata": {},
   "outputs": [
    {
     "name": "stdout",
     "output_type": "stream",
     "text": [
      "[1, 4, 9]\n"
     ]
    }
   ],
   "source": [
    "num=[i*i for i in range(1,11) if i<4]\n",
    "print(num)"
   ]
  },
  {
   "cell_type": "code",
   "execution_count": 9,
   "id": "f4a88afc",
   "metadata": {},
   "outputs": [
    {
     "name": "stdout",
     "output_type": "stream",
     "text": [
      "2\n",
      "5.0\n",
      "8\n",
      "13.0\n",
      "20\n",
      "30\n"
     ]
    }
   ],
   "source": [
    "item = [1,2.5,4,6.5,10,15]\n",
    "for i in item:\n",
    "    print(i*2)"
   ]
  },
  {
   "cell_type": "code",
   "execution_count": 14,
   "id": "21e1e379",
   "metadata": {},
   "outputs": [
    {
     "name": "stdout",
     "output_type": "stream",
     "text": [
      "[2, 5.0, 8, 13.0, 20, 30]\n"
     ]
    },
    {
     "data": {
      "text/plain": [
       "list"
      ]
     },
     "execution_count": 14,
     "metadata": {},
     "output_type": "execute_result"
    }
   ],
   "source": [
    "item = [1,2.5,4,6.5,10,15]\n",
    "res = [ i*2 for i in item]\n",
    "print(res)\n",
    "type(res)"
   ]
  },
  {
   "cell_type": "code",
   "execution_count": 2,
   "id": "41958d9d",
   "metadata": {},
   "outputs": [
    {
     "data": {
      "text/plain": [
       "['H', 'H', 'H']"
      ]
     },
     "execution_count": 2,
     "metadata": {},
     "output_type": "execute_result"
    }
   ],
   "source": [
    "item = [\"Hi\",\"Hello\",\"Hola\"]\n",
    "first=[i[0] for i in item]\n",
    "first"
   ]
  },
  {
   "cell_type": "code",
   "execution_count": 4,
   "id": "b29437c1",
   "metadata": {},
   "outputs": [
    {
     "data": {
      "text/plain": [
       "[23]"
      ]
     },
     "execution_count": 4,
     "metadata": {},
     "output_type": "execute_result"
    }
   ],
   "source": [
    "text = \"Hi i am tarun i am 23 year old\"\n",
    "\n",
    "number = [int(i) for i in text.split() if i.isdigit()==True]\n",
    "\n",
    "number"
   ]
  },
  {
   "cell_type": "code",
   "execution_count": 112,
   "id": "de889020",
   "metadata": {},
   "outputs": [
    {
     "data": {
      "text/plain": [
       "['i', 'i', 'a', 'a', 'u', 'i', 'a', 'e', 'a', 'o']"
      ]
     },
     "execution_count": 112,
     "metadata": {},
     "output_type": "execute_result"
    }
   ],
   "source": [
    "text = \"Hi i am tarun i am 23 year old\"\n",
    "\n",
    "vowel = [i for i in text if i in 'aeiouAEIOU']\n",
    "vowel"
   ]
  },
  {
   "cell_type": "code",
   "execution_count": 3,
   "id": "37a95afc",
   "metadata": {},
   "outputs": [
    {
     "data": {
      "text/plain": [
       "[10, 20, 30, 30]"
      ]
     },
     "execution_count": 3,
     "metadata": {},
     "output_type": "execute_result"
    }
   ],
   "source": [
    "Products = [\"Apparels\",\"cockaries\",\"cosmetics\",\"Detergents\"]\n",
    "Discount = [10 if p==\"Apparels\" else 20 if p==\"cockaries\" else 30 for p in Products]\n",
    "Discount"
   ]
  },
  {
   "cell_type": "code",
   "execution_count": 11,
   "id": "dead68dd",
   "metadata": {},
   "outputs": [
    {
     "name": "stdout",
     "output_type": "stream",
     "text": [
      "10\n"
     ]
    }
   ],
   "source": [
    "Products = [\"Apparels\",\"crokaries\",\"cosmetics\",\"Beverages\",\"Detergents\"]\n",
    "for i in Products:\n",
    "    i = len(i)\n",
    "    if i > 9:\n",
    "        print(i)"
   ]
  },
  {
   "cell_type": "markdown",
   "id": "f2475069",
   "metadata": {},
   "source": [
    "# Fucnctions"
   ]
  },
  {
   "cell_type": "code",
   "execution_count": 12,
   "id": "ffdf41ca",
   "metadata": {},
   "outputs": [],
   "source": [
    "def printhel():\n",
    "    print(\"Hello\")"
   ]
  },
  {
   "cell_type": "code",
   "execution_count": 13,
   "id": "c750b91c",
   "metadata": {},
   "outputs": [
    {
     "name": "stdout",
     "output_type": "stream",
     "text": [
      "Hello\n"
     ]
    }
   ],
   "source": [
    "printhel()"
   ]
  },
  {
   "cell_type": "code",
   "execution_count": 21,
   "id": "fcbb90b1",
   "metadata": {},
   "outputs": [],
   "source": [
    "def greet(name):\n",
    "    print(\"Hello \", name, \"! Welcome\")"
   ]
  },
  {
   "cell_type": "code",
   "execution_count": 23,
   "id": "2aff1316",
   "metadata": {},
   "outputs": [
    {
     "name": "stdout",
     "output_type": "stream",
     "text": [
      "Enter ur name: Tarun\n",
      "Hello  Tarun ! Welcome\n"
     ]
    }
   ],
   "source": [
    "name = input(\"Enter ur name: \")\n",
    "greet(name)"
   ]
  },
  {
   "cell_type": "code",
   "execution_count": 30,
   "id": "76637ac4",
   "metadata": {},
   "outputs": [
    {
     "name": "stdout",
     "output_type": "stream",
     "text": [
      "The sum is  40\n"
     ]
    }
   ],
   "source": [
    "def add(n1,n2):\n",
    "    res=n1+n2\n",
    "    return(res)\n",
    "\n",
    "sum = add(15,25)\n",
    "print(\"The sum is \",sum)"
   ]
  },
  {
   "cell_type": "code",
   "execution_count": 32,
   "id": "2fe09881",
   "metadata": {},
   "outputs": [
    {
     "name": "stdout",
     "output_type": "stream",
     "text": [
      "The sum is  None\n"
     ]
    }
   ],
   "source": [
    "#return value is not mentioned\n",
    "\n",
    "def add(n1,n2):\n",
    "    res=n1+n2\n",
    "    return\n",
    "\n",
    "sum = add(15,25)\n",
    "print(\"The sum is \",sum)"
   ]
  },
  {
   "cell_type": "code",
   "execution_count": null,
   "id": "6c196fa4",
   "metadata": {},
   "outputs": [],
   "source": []
  },
  {
   "cell_type": "code",
   "execution_count": 40,
   "id": "8454fbca",
   "metadata": {},
   "outputs": [],
   "source": [
    "def arg(n1,n2):\n",
    "    print(\"First number is :\",n1)\n",
    "    print(\"Second number is :\",n2)"
   ]
  },
  {
   "cell_type": "code",
   "execution_count": 41,
   "id": "ecdacbfd",
   "metadata": {},
   "outputs": [
    {
     "name": "stdout",
     "output_type": "stream",
     "text": [
      "First number is : 15\n",
      "Second number is : 20\n"
     ]
    }
   ],
   "source": [
    "arg(15,20)"
   ]
  },
  {
   "cell_type": "markdown",
   "id": "2c5de1a0",
   "metadata": {},
   "source": [
    "### calling func by passing 2 values"
   ]
  },
  {
   "cell_type": "code",
   "execution_count": 44,
   "id": "a5e160b6",
   "metadata": {},
   "outputs": [
    {
     "name": "stdout",
     "output_type": "stream",
     "text": [
      "First number is : 6\n",
      "Second number is : 5\n"
     ]
    }
   ],
   "source": [
    "n1 = 5\n",
    "n2 = 6\n",
    "arg(n2,n1)"
   ]
  },
  {
   "cell_type": "code",
   "execution_count": 46,
   "id": "9201a5d9",
   "metadata": {
    "scrolled": true
   },
   "outputs": [
    {
     "ename": "TypeError",
     "evalue": "printhel() takes 0 positional arguments but 1 was given",
     "output_type": "error",
     "traceback": [
      "\u001b[1;31m---------------------------------------------------------------------------\u001b[0m",
      "\u001b[1;31mTypeError\u001b[0m                                 Traceback (most recent call last)",
      "\u001b[1;32m<ipython-input-46-097d154cf7ae>\u001b[0m in \u001b[0;36m<module>\u001b[1;34m\u001b[0m\n\u001b[0;32m      2\u001b[0m     \u001b[0mprint\u001b[0m\u001b[1;33m(\u001b[0m\u001b[1;34m\"Hello\"\u001b[0m\u001b[1;33m)\u001b[0m\u001b[1;33m\u001b[0m\u001b[1;33m\u001b[0m\u001b[0m\n\u001b[0;32m      3\u001b[0m \u001b[1;33m\u001b[0m\u001b[0m\n\u001b[1;32m----> 4\u001b[1;33m \u001b[0mprinthel\u001b[0m\u001b[1;33m(\u001b[0m\u001b[1;34m\"Hi\"\u001b[0m\u001b[1;33m)\u001b[0m\u001b[1;33m\u001b[0m\u001b[1;33m\u001b[0m\u001b[0m\n\u001b[0m",
      "\u001b[1;31mTypeError\u001b[0m: printhel() takes 0 positional arguments but 1 was given"
     ]
    }
   ],
   "source": [
    "def printhel():\n",
    "    print(\"Hello\")\n",
    "\n",
    "printhel(\"Hi\")"
   ]
  },
  {
   "cell_type": "code",
   "execution_count": 48,
   "id": "ed06d0e8",
   "metadata": {},
   "outputs": [
    {
     "name": "stdout",
     "output_type": "stream",
     "text": [
      "Hello  Tarun ! Welcome\n"
     ]
    }
   ],
   "source": [
    "greet('Tarun')"
   ]
  },
  {
   "cell_type": "code",
   "execution_count": 49,
   "id": "71de4fcb",
   "metadata": {},
   "outputs": [
    {
     "name": "stdout",
     "output_type": "stream",
     "text": [
      "Hello  Tejas ! Welcome\n"
     ]
    }
   ],
   "source": [
    "greet(name=\"Tejas\")"
   ]
  },
  {
   "cell_type": "markdown",
   "id": "309d95ca",
   "metadata": {},
   "source": [
    "### Positional parameters\n",
    "\n",
    "### Keyword parameters\n"
   ]
  },
  {
   "cell_type": "code",
   "execution_count": 50,
   "id": "7ae6d99e",
   "metadata": {},
   "outputs": [],
   "source": [
    "#Positional parameters\n",
    "\n",
    "#vlookup(Search_val,range,col_ind,approx/exact)\n",
    "\n",
    "\n",
    "#Keyword parameters\n",
    "\n",
    "#vlookup(col_ind=6,approx/exact=False,Search_val=\"Manager\",range=A1:Z20)"
   ]
  },
  {
   "cell_type": "code",
   "execution_count": 63,
   "id": "62367070",
   "metadata": {},
   "outputs": [
    {
     "name": "stdout",
     "output_type": "stream",
     "text": [
      "Name: Tarun\n",
      "Designation: Manager\n",
      "Name: Analyst\n",
      "Designation: Tejas\n",
      "Name: Tejas\n",
      "Designation: Analyst\n"
     ]
    }
   ],
   "source": [
    "def Emp(Name,Designation):\n",
    "    print(\"Name:\",Name)\n",
    "    print(\"Designation:\",Designation)\n",
    "\n",
    "#positional parameters\n",
    "Emp(\"Tarun\",\"Manager\")\n",
    "\n",
    "Emp(\"Analyst\",\"Tejas\")\n",
    "\n",
    "#keyword parameters\n",
    "Emp(Designation=\"Analyst\",Name=\"Tejas\")"
   ]
  },
  {
   "cell_type": "markdown",
   "id": "1aa28232",
   "metadata": {},
   "source": [
    "### Default parameters"
   ]
  },
  {
   "cell_type": "code",
   "execution_count": 67,
   "id": "a5da0535",
   "metadata": {},
   "outputs": [
    {
     "name": "stdout",
     "output_type": "stream",
     "text": [
      "Name: Tarun\n",
      "salary: 40000\n",
      "Name: Tarun\n",
      "salary: 75000\n"
     ]
    }
   ],
   "source": [
    "# Default parameters\n",
    "\n",
    "def Emp(Name,salary=40000):\n",
    "    print(\"Name:\",Name)\n",
    "    print(\"salary:\",salary)\n",
    "    \n",
    "Emp(\"Tarun\")\n",
    "Emp(\"Tarun\",75000)"
   ]
  },
  {
   "cell_type": "markdown",
   "id": "625c357e",
   "metadata": {},
   "source": [
    "### Variable lenght arg"
   ]
  },
  {
   "cell_type": "code",
   "execution_count": 80,
   "id": "068a9f69",
   "metadata": {},
   "outputs": [
    {
     "name": "stdout",
     "output_type": "stream",
     "text": [
      "12\n",
      "21\n"
     ]
    }
   ],
   "source": [
    "def add(*num):\n",
    "    result = 0\n",
    "    for i in num:\n",
    "        result = result + i\n",
    "    print(result)\n",
    "    \n",
    "add(1,5,6)\n",
    "add(1,2,3,4,5,6)"
   ]
  },
  {
   "cell_type": "markdown",
   "id": "24e30856",
   "metadata": {},
   "source": [
    "### variable lenght keyword arg"
   ]
  },
  {
   "cell_type": "code",
   "execution_count": 85,
   "id": "647381fc",
   "metadata": {},
   "outputs": [
    {
     "name": "stdout",
     "output_type": "stream",
     "text": [
      "<class 'dict'>\n",
      "Name --> Tarun\n",
      "Salary --> 60000\n",
      "Designation --> Data Scientist\n"
     ]
    }
   ],
   "source": [
    "def Em(**details):\n",
    "    print(type(details))\n",
    "    for k,v in details.items():\n",
    "        print(k,\"-->\",v)\n",
    "        \n",
    "Em(Name=\"Tarun\",Salary=60000,Designation=\"Data Scientist\")"
   ]
  },
  {
   "cell_type": "markdown",
   "id": "7d581a91",
   "metadata": {},
   "source": [
    "# Lambda Func/Anonymous func"
   ]
  },
  {
   "cell_type": "code",
   "execution_count": 88,
   "id": "117950f3",
   "metadata": {},
   "outputs": [
    {
     "data": {
      "text/plain": [
       "5"
      ]
     },
     "execution_count": 88,
     "metadata": {},
     "output_type": "execute_result"
    }
   ],
   "source": [
    "greater = lambda n1,n2 : n1 if n1>n2 else n2\n",
    "greater(5,2)"
   ]
  },
  {
   "cell_type": "code",
   "execution_count": 89,
   "id": "6221e1be",
   "metadata": {},
   "outputs": [
    {
     "data": {
      "text/plain": [
       "5"
      ]
     },
     "execution_count": 89,
     "metadata": {},
     "output_type": "execute_result"
    }
   ],
   "source": [
    "greater(2,5)"
   ]
  },
  {
   "cell_type": "code",
   "execution_count": 92,
   "id": "eea7afac",
   "metadata": {},
   "outputs": [],
   "source": [
    "# user defined\n",
    "\n",
    "def greater(n1,n2):\n",
    "    if n1>n2:\n",
    "        return n1\n",
    "    else:\n",
    "        return n2"
   ]
  },
  {
   "cell_type": "code",
   "execution_count": 91,
   "id": "03c9d0f5",
   "metadata": {},
   "outputs": [
    {
     "data": {
      "text/plain": [
       "5"
      ]
     },
     "execution_count": 91,
     "metadata": {},
     "output_type": "execute_result"
    }
   ],
   "source": [
    "greater(2,5)"
   ]
  },
  {
   "cell_type": "markdown",
   "id": "87671110",
   "metadata": {},
   "source": [
    "## Map"
   ]
  },
  {
   "cell_type": "code",
   "execution_count": 3,
   "id": "b372c2a9",
   "metadata": {},
   "outputs": [
    {
     "data": {
      "text/plain": [
       "[<function __main__.<lambda>(x)>, [1, 2, 3, 4, 5, 6, 7, 8, 9, 10]]"
      ]
     },
     "execution_count": 3,
     "metadata": {},
     "output_type": "execute_result"
    }
   ],
   "source": [
    "num_list = list(range(1,11))\n",
    "square_list = list(map(lambda x : x**2, num_list))\n",
    "square_list"
   ]
  },
  {
   "cell_type": "markdown",
   "id": "7e240d52",
   "metadata": {},
   "source": [
    "## Filter"
   ]
  },
  {
   "cell_type": "code",
   "execution_count": 2,
   "id": "0f4a932d",
   "metadata": {},
   "outputs": [
    {
     "data": {
      "text/plain": [
       "[2, 4, 6, 8, 10]"
      ]
     },
     "execution_count": 2,
     "metadata": {},
     "output_type": "execute_result"
    }
   ],
   "source": [
    "num_list = list(range(1,11))\n",
    "ft_list = list(filter(lambda x : x % 2==0, num_list))\n",
    "ft_list"
   ]
  },
  {
   "cell_type": "markdown",
   "id": "fc352d04",
   "metadata": {},
   "source": [
    "## Reduce"
   ]
  },
  {
   "cell_type": "code",
   "execution_count": 4,
   "id": "304f4cf3",
   "metadata": {},
   "outputs": [
    {
     "data": {
      "text/plain": [
       "120"
      ]
     },
     "execution_count": 4,
     "metadata": {},
     "output_type": "execute_result"
    }
   ],
   "source": [
    "from functools import reduce\n",
    "num_list = [1,2,3,4,5]\n",
    "\n",
    "reduce(lambda a,b : a*b , num_list)"
   ]
  },
  {
   "cell_type": "code",
   "execution_count": 5,
   "id": "900ca84c",
   "metadata": {},
   "outputs": [
    {
     "data": {
      "text/plain": [
       "-3000"
      ]
     },
     "execution_count": 5,
     "metadata": {},
     "output_type": "execute_result"
    }
   ],
   "source": [
    "tup = (1,15,20,-3000,8,900)\n",
    "\n",
    "reduce(lambda x,y : x if x<y else y, tup)"
   ]
  },
  {
   "cell_type": "code",
   "execution_count": null,
   "id": "6e1fa20f",
   "metadata": {},
   "outputs": [],
   "source": []
  },
  {
   "cell_type": "code",
   "execution_count": null,
   "id": "7646ff80",
   "metadata": {},
   "outputs": [],
   "source": []
  }
 ],
 "metadata": {
  "kernelspec": {
   "display_name": "Python 3",
   "language": "python",
   "name": "python3"
  },
  "language_info": {
   "codemirror_mode": {
    "name": "ipython",
    "version": 3
   },
   "file_extension": ".py",
   "mimetype": "text/x-python",
   "name": "python",
   "nbconvert_exporter": "python",
   "pygments_lexer": "ipython3",
   "version": "3.8.8"
  }
 },
 "nbformat": 4,
 "nbformat_minor": 5
}
