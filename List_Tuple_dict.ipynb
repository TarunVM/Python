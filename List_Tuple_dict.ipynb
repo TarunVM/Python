{
 "cells": [
  {
   "cell_type": "markdown",
   "id": "7f7b9bb1",
   "metadata": {},
   "source": [
    "# [] - Array,list\n",
    "# () - Tuple\n",
    "# {} - Dictionary"
   ]
  },
  {
   "cell_type": "markdown",
   "id": "01e49c23",
   "metadata": {},
   "source": [
    "# ---------------------\n",
    "#         List"
   ]
  },
  {
   "cell_type": "code",
   "execution_count": 9,
   "id": "bc2ae9b8",
   "metadata": {},
   "outputs": [],
   "source": [
    "list1 = ['Hi']\n",
    "list2 = [' Tarun']"
   ]
  },
  {
   "cell_type": "code",
   "execution_count": 10,
   "id": "3fe15796",
   "metadata": {},
   "outputs": [],
   "source": [
    "list1.append('Sir')"
   ]
  },
  {
   "cell_type": "code",
   "execution_count": 11,
   "id": "d0367c06",
   "metadata": {},
   "outputs": [
    {
     "name": "stdout",
     "output_type": "stream",
     "text": [
      "['Hi', 'Sir']\n"
     ]
    }
   ],
   "source": [
    "print(list1)"
   ]
  },
  {
   "cell_type": "code",
   "execution_count": 12,
   "id": "66ac7ccf",
   "metadata": {},
   "outputs": [
    {
     "name": "stdout",
     "output_type": "stream",
     "text": [
      "['Hi', 'Sir', ' Tarun']\n"
     ]
    }
   ],
   "source": [
    "listfinal = list1 + list2\n",
    "print(listfinal)"
   ]
  },
  {
   "cell_type": "code",
   "execution_count": 19,
   "id": "554a76f7",
   "metadata": {},
   "outputs": [],
   "source": [
    "sort1 = ['hi','abc','zas']\n",
    "sort = [12,1,8]\n",
    "\n",
    "sort.sort()\n",
    "print(sort)\n",
    "\n",
    "sort1.sort()\n",
    "print(sort1)\n",
    "\n",
    "#sort data will be stored if we sort() func"
   ]
  },
  {
   "cell_type": "code",
   "execution_count": 20,
   "id": "b6bec51e",
   "metadata": {},
   "outputs": [
    {
     "name": "stdout",
     "output_type": "stream",
     "text": [
      "[1, 8, 12]\n",
      "[12, 1, 8]\n"
     ]
    }
   ],
   "source": [
    "# sort data will not be stored if we use sorted() func the original data remains intact\n",
    "\n",
    "new_sort = sorted(sort)\n",
    "print(new_sort)\n",
    "print(sort)"
   ]
  },
  {
   "cell_type": "code",
   "execution_count": 21,
   "id": "4d65eeed",
   "metadata": {},
   "outputs": [
    {
     "name": "stdout",
     "output_type": "stream",
     "text": [
      "True\n"
     ]
    }
   ],
   "source": [
    "sort = [12,1,8]\n",
    "\n",
    "print(1 in sort)"
   ]
  },
  {
   "cell_type": "code",
   "execution_count": 22,
   "id": "08925f29",
   "metadata": {},
   "outputs": [
    {
     "name": "stdout",
     "output_type": "stream",
     "text": [
      "True\n"
     ]
    }
   ],
   "source": [
    "print(11 not in sort)"
   ]
  },
  {
   "cell_type": "code",
   "execution_count": 23,
   "id": "1f618ba3",
   "metadata": {},
   "outputs": [
    {
     "name": "stdout",
     "output_type": "stream",
     "text": [
      "False\n"
     ]
    }
   ],
   "source": [
    "print(1 not in sort)"
   ]
  },
  {
   "cell_type": "code",
   "execution_count": 67,
   "id": "b10cd7f2",
   "metadata": {},
   "outputs": [
    {
     "name": "stdout",
     "output_type": "stream",
     "text": [
      "False\n",
      "True\n",
      "False\n",
      "True\n",
      "False\n",
      "True\n"
     ]
    }
   ],
   "source": [
    "Data_science = ['R','Python','Hadoop','Spark']\n",
    "price = [40,56,70.2,40,100,20]\n",
    "\n",
    "print('SAS' in Data_science)\n",
    "print('Spark' in Data_science)\n",
    "print('Spark' not in Data_science)\n",
    "print(40 in price)\n",
    "print(40 not in price)\n",
    "print(70.2 in price)"
   ]
  },
  {
   "cell_type": "code",
   "execution_count": 68,
   "id": "24ae6863",
   "metadata": {},
   "outputs": [
    {
     "name": "stdout",
     "output_type": "stream",
     "text": [
      "R\n",
      "Python\n",
      "Hadoop\n",
      "Spark\n"
     ]
    }
   ],
   "source": [
    "for Sub in Data_science:\n",
    "    print(Sub)"
   ]
  },
  {
   "cell_type": "code",
   "execution_count": 69,
   "id": "39ff69f7",
   "metadata": {},
   "outputs": [
    {
     "data": {
      "text/plain": [
       "6"
      ]
     },
     "execution_count": 69,
     "metadata": {},
     "output_type": "execute_result"
    }
   ],
   "source": [
    "len(price)"
   ]
  },
  {
   "cell_type": "code",
   "execution_count": 70,
   "id": "efb7ed85",
   "metadata": {},
   "outputs": [
    {
     "data": {
      "text/plain": [
       "20"
      ]
     },
     "execution_count": 70,
     "metadata": {},
     "output_type": "execute_result"
    }
   ],
   "source": [
    "min(price)"
   ]
  },
  {
   "cell_type": "code",
   "execution_count": 71,
   "id": "d70d097c",
   "metadata": {},
   "outputs": [
    {
     "data": {
      "text/plain": [
       "100"
      ]
     },
     "execution_count": 71,
     "metadata": {},
     "output_type": "execute_result"
    }
   ],
   "source": [
    "max(price)"
   ]
  },
  {
   "cell_type": "code",
   "execution_count": 72,
   "id": "08e5b7cc",
   "metadata": {},
   "outputs": [
    {
     "name": "stdout",
     "output_type": "stream",
     "text": [
      "[40, 56, 70.2, 'Tarun', 100, 20]\n"
     ]
    },
    {
     "ename": "TypeError",
     "evalue": "'list' object is not callable",
     "output_type": "error",
     "traceback": [
      "\u001b[1;31m---------------------------------------------------------------------------\u001b[0m",
      "\u001b[1;31mTypeError\u001b[0m                                 Traceback (most recent call last)",
      "\u001b[1;32m<ipython-input-72-9c80dce9e9fd>\u001b[0m in \u001b[0;36m<module>\u001b[1;34m\u001b[0m\n\u001b[0;32m      3\u001b[0m \u001b[0mnum\u001b[0m \u001b[1;33m=\u001b[0m \u001b[1;33m[\u001b[0m\u001b[1;36m40\u001b[0m\u001b[1;33m,\u001b[0m\u001b[1;36m56\u001b[0m\u001b[1;33m,\u001b[0m\u001b[1;36m70.2\u001b[0m\u001b[1;33m,\u001b[0m\u001b[1;34m'Tarun'\u001b[0m\u001b[1;33m,\u001b[0m\u001b[1;36m100\u001b[0m\u001b[1;33m,\u001b[0m\u001b[1;36m20\u001b[0m\u001b[1;33m]\u001b[0m\u001b[1;33m\u001b[0m\u001b[1;33m\u001b[0m\u001b[0m\n\u001b[0;32m      4\u001b[0m \u001b[0mprint\u001b[0m\u001b[1;33m(\u001b[0m\u001b[0mnum\u001b[0m\u001b[1;33m)\u001b[0m\u001b[1;33m\u001b[0m\u001b[1;33m\u001b[0m\u001b[0m\n\u001b[1;32m----> 5\u001b[1;33m \u001b[0msort\u001b[0m\u001b[1;33m(\u001b[0m\u001b[0mnum\u001b[0m\u001b[1;33m)\u001b[0m\u001b[1;33m\u001b[0m\u001b[1;33m\u001b[0m\u001b[0m\n\u001b[0m\u001b[0;32m      6\u001b[0m \u001b[0mmin\u001b[0m\u001b[1;33m(\u001b[0m\u001b[0mnum\u001b[0m\u001b[1;33m)\u001b[0m\u001b[1;33m\u001b[0m\u001b[1;33m\u001b[0m\u001b[0m\n\u001b[0;32m      7\u001b[0m \u001b[0mmax\u001b[0m\u001b[1;33m(\u001b[0m\u001b[0mnum\u001b[0m\u001b[1;33m)\u001b[0m\u001b[1;33m\u001b[0m\u001b[1;33m\u001b[0m\u001b[0m\n",
      "\u001b[1;31mTypeError\u001b[0m: 'list' object is not callable"
     ]
    }
   ],
   "source": [
    "#sort, max, min data structures wont work on list which contains diff type of data types\n",
    "\n",
    "num = [40,56,70.2,'Tarun',100,20]\n",
    "print(num)\n",
    "sort(num)\n",
    "min(num)\n",
    "max(num) "
   ]
  },
  {
   "cell_type": "code",
   "execution_count": 77,
   "id": "2d2df19a",
   "metadata": {},
   "outputs": [
    {
     "name": "stdout",
     "output_type": "stream",
     "text": [
      "[]\n"
     ]
    }
   ],
   "source": [
    "price.clear()\n",
    "\n",
    "#print(price)"
   ]
  },
  {
   "cell_type": "code",
   "execution_count": 82,
   "id": "5fee7c5b",
   "metadata": {},
   "outputs": [
    {
     "name": "stdout",
     "output_type": "stream",
     "text": [
      "['Hi', 12, 'Hello', 123, 'Hola', 1234]\n",
      "['Hi', 12, 'Hello', 123, 'Hola', 1234]\n",
      "['Hi', 12, 'Hello', 123, 'Hola', 1234]\n",
      "['Hi', 12, 'Hello', 123, 'Hola', 1234, 'Oye']\n"
     ]
    }
   ],
   "source": [
    "data = ['Hi',12,'Hello',123,'Hola',1234]\n",
    "new_data = data.copy() # doesnt share any memory so the data is changed only in new list\n",
    "\n",
    "print(data)\n",
    "print(new_data)\n",
    "\n",
    "new_data.append('Oye')\n",
    "print(data)\n",
    "print(new_data)"
   ]
  },
  {
   "cell_type": "code",
   "execution_count": 83,
   "id": "704392c5",
   "metadata": {},
   "outputs": [
    {
     "name": "stdout",
     "output_type": "stream",
     "text": [
      "['Hi', 12, 'Hello', 123, 'Hola', 1234]\n",
      "['Hi', 12, 'Hello', 123, 'Hola', 1234]\n",
      "['Hi', 12, 'Hello', 123, 'Hola', 1234, 'Oye']\n",
      "['Hi', 12, 'Hello', 123, 'Hola', 1234, 'Oye']\n"
     ]
    }
   ],
   "source": [
    "data = ['Hi',12,'Hello',123,'Hola',1234]\n",
    "new_data = data   #refering the data, they are sharing memory so if the data is changed in one it changes in other viceversa\n",
    "\n",
    "print(data)\n",
    "print(new_data)\n",
    "\n",
    "new_data.append('Oye')\n",
    "print(data)\n",
    "print(new_data)"
   ]
  },
  {
   "cell_type": "code",
   "execution_count": 88,
   "id": "9707e518",
   "metadata": {},
   "outputs": [
    {
     "data": {
      "text/plain": [
       "2"
      ]
     },
     "execution_count": 88,
     "metadata": {},
     "output_type": "execute_result"
    }
   ],
   "source": [
    "Products = [\"Dairy\",\"Bakery\",\"Grocery\",\"Clothing\",\"Bakery\",\"Dairy\",\"Cosmetics\"]\n",
    "Products.count('Bakery')"
   ]
  },
  {
   "cell_type": "code",
   "execution_count": 89,
   "id": "807db9ad",
   "metadata": {},
   "outputs": [
    {
     "data": {
      "text/plain": [
       "7"
      ]
     },
     "execution_count": 89,
     "metadata": {},
     "output_type": "execute_result"
    }
   ],
   "source": [
    "len(Products)"
   ]
  },
  {
   "cell_type": "code",
   "execution_count": 107,
   "id": "9e40f59c",
   "metadata": {},
   "outputs": [
    {
     "name": "stdout",
     "output_type": "stream",
     "text": [
      "['R', 'Python', 'Hadoop', 'Spark', 40, 56, 70.2, 40, 100, 20]\n",
      "[40, 56, 70.2, 40, 100, 20]\n"
     ]
    }
   ],
   "source": [
    "Data_science = ['R','Python','Hadoop','Spark']\n",
    "price = [40,56,70.2,40,100,20]\n",
    "\n",
    "Data_science.extend(price)\n",
    "print(Data_science)\n",
    "print(price)"
   ]
  },
  {
   "cell_type": "code",
   "execution_count": 108,
   "id": "549db0f6",
   "metadata": {},
   "outputs": [
    {
     "data": {
      "text/plain": [
       "4"
      ]
     },
     "execution_count": 108,
     "metadata": {},
     "output_type": "execute_result"
    }
   ],
   "source": [
    "Data_science.index(40)"
   ]
  },
  {
   "cell_type": "code",
   "execution_count": 109,
   "id": "4454b16d",
   "metadata": {},
   "outputs": [
    {
     "name": "stdout",
     "output_type": "stream",
     "text": [
      "['R', 'Python', 50, 'Hadoop', 'Spark', 40, 56, 70.2, 40, 100, 20]\n"
     ]
    }
   ],
   "source": [
    "Data_science.insert(2 , 50)\n",
    "print(Data_science)"
   ]
  },
  {
   "cell_type": "code",
   "execution_count": 110,
   "id": "50eb02cc",
   "metadata": {},
   "outputs": [
    {
     "data": {
      "text/plain": [
       "5"
      ]
     },
     "execution_count": 110,
     "metadata": {},
     "output_type": "execute_result"
    }
   ],
   "source": [
    "Data_science.index(40)"
   ]
  },
  {
   "cell_type": "markdown",
   "id": "82db02c6",
   "metadata": {},
   "source": [
    "# Tuple"
   ]
  },
  {
   "cell_type": "code",
   "execution_count": 111,
   "id": "f0e9777d",
   "metadata": {},
   "outputs": [],
   "source": [
    "# Tuples are immutable\n",
    "# they are represented in ()"
   ]
  },
  {
   "cell_type": "code",
   "execution_count": 114,
   "id": "5615fa57",
   "metadata": {},
   "outputs": [
    {
     "name": "stdout",
     "output_type": "stream",
     "text": [
      "('Tea', 'Coffee', 'Sugar', 'Milk', 'Bread', 5, 5, 15, 22, 30)\n"
     ]
    },
    {
     "data": {
      "text/plain": [
       "tuple"
      ]
     },
     "execution_count": 114,
     "metadata": {},
     "output_type": "execute_result"
    }
   ],
   "source": [
    "items = ('Tea','Coffee','Sugar','Milk','Bread',5,5,15,22,30)\n",
    "print(items)\n",
    "type(items)"
   ]
  },
  {
   "cell_type": "code",
   "execution_count": 115,
   "id": "199ee6b4",
   "metadata": {},
   "outputs": [
    {
     "name": "stdout",
     "output_type": "stream",
     "text": [
      "('Tea', 'Coffee', 'Sugar', 'Milk', 'Bread', 5, 5, 15, 22, 30)\n"
     ]
    },
    {
     "data": {
      "text/plain": [
       "tuple"
      ]
     },
     "execution_count": 115,
     "metadata": {},
     "output_type": "execute_result"
    }
   ],
   "source": [
    "items = 'Tea','Coffee','Sugar','Milk','Bread',5,5,15,22,30\n",
    "print(items)\n",
    "type(items)"
   ]
  },
  {
   "cell_type": "code",
   "execution_count": 122,
   "id": "55fa1fbc",
   "metadata": {},
   "outputs": [
    {
     "name": "stdout",
     "output_type": "stream",
     "text": [
      "[5, 5, 15, 22, 30]\n",
      "[30, 22, 15, 5, 5]\n"
     ]
    }
   ],
   "source": [
    "items = (5,5,15,22,30)\n",
    "print(sorted(items))\n",
    "print(sorted(items , reverse = True))"
   ]
  },
  {
   "cell_type": "code",
   "execution_count": 125,
   "id": "189490d7",
   "metadata": {},
   "outputs": [
    {
     "data": {
      "text/plain": [
       "('Pizza',\n",
       " 'Cola',\n",
       " 'Pizza',\n",
       " 'Cola',\n",
       " 'Pizza',\n",
       " 'Cola',\n",
       " 'Pizza',\n",
       " 'Cola',\n",
       " 'Pizza',\n",
       " 'Cola')"
      ]
     },
     "execution_count": 125,
     "metadata": {},
     "output_type": "execute_result"
    }
   ],
   "source": [
    "order = (\"Pizza\",\"Cola\")\n",
    "n = 5\n",
    "n_order = order*n\n",
    "n_order"
   ]
  },
  {
   "cell_type": "code",
   "execution_count": 126,
   "id": "5e8d70bd",
   "metadata": {},
   "outputs": [
    {
     "data": {
      "text/plain": [
       "('Tea', 'Coffee', 'Sugar', 'Milk', 'Bread', 5, 5, 15, 22, 30, 'Pizza', 'Cola')"
      ]
     },
     "execution_count": 126,
     "metadata": {},
     "output_type": "execute_result"
    }
   ],
   "source": [
    "items = 'Tea','Coffee','Sugar','Milk','Bread',5,5,15,22,30\n",
    "order = (\"Pizza\",\"Cola\")\n",
    "\n",
    "n = items+order\n",
    "n"
   ]
  },
  {
   "cell_type": "code",
   "execution_count": 133,
   "id": "86f2f878",
   "metadata": {},
   "outputs": [
    {
     "name": "stdout",
     "output_type": "stream",
     "text": [
      "False\n"
     ]
    }
   ],
   "source": [
    "print(\"Cola\" in items)"
   ]
  },
  {
   "cell_type": "code",
   "execution_count": 132,
   "id": "2bebc6f8",
   "metadata": {},
   "outputs": [
    {
     "name": "stdout",
     "output_type": "stream",
     "text": [
      "True\n"
     ]
    }
   ],
   "source": [
    "print(\"Cola\" not in items)"
   ]
  },
  {
   "cell_type": "code",
   "execution_count": 131,
   "id": "179fda1b",
   "metadata": {},
   "outputs": [
    {
     "name": "stdout",
     "output_type": "stream",
     "text": [
      "True\n"
     ]
    }
   ],
   "source": [
    "print(\"Cola\" in order)"
   ]
  },
  {
   "cell_type": "code",
   "execution_count": 134,
   "id": "4a3b4abf",
   "metadata": {},
   "outputs": [
    {
     "name": "stdout",
     "output_type": "stream",
     "text": [
      "Tea\n",
      "Coffee\n",
      "Sugar\n",
      "Milk\n",
      "Bread\n",
      "5\n",
      "5\n",
      "15\n",
      "22\n",
      "30\n"
     ]
    }
   ],
   "source": [
    "items = 'Tea','Coffee','Sugar','Milk','Bread',5,5,15,22,30\n",
    "\n",
    "for i in items:\n",
    "    print(i)"
   ]
  },
  {
   "cell_type": "code",
   "execution_count": 135,
   "id": "3cf2663a",
   "metadata": {},
   "outputs": [
    {
     "data": {
      "text/plain": [
       "10"
      ]
     },
     "execution_count": 135,
     "metadata": {},
     "output_type": "execute_result"
    }
   ],
   "source": [
    "len(items)"
   ]
  },
  {
   "cell_type": "code",
   "execution_count": 137,
   "id": "51093da1",
   "metadata": {},
   "outputs": [
    {
     "data": {
      "text/plain": [
       "30"
      ]
     },
     "execution_count": 137,
     "metadata": {},
     "output_type": "execute_result"
    }
   ],
   "source": [
    "items = 5,5,15,22,30\n",
    "\n",
    "max(items)"
   ]
  },
  {
   "cell_type": "code",
   "execution_count": 138,
   "id": "5ae04cc6",
   "metadata": {},
   "outputs": [
    {
     "data": {
      "text/plain": [
       "5"
      ]
     },
     "execution_count": 138,
     "metadata": {},
     "output_type": "execute_result"
    }
   ],
   "source": [
    "min(items)"
   ]
  },
  {
   "cell_type": "code",
   "execution_count": 144,
   "id": "4136fc96",
   "metadata": {},
   "outputs": [
    {
     "data": {
      "text/plain": [
       "(5, 5, 15, 22, 30, [1, 2, 3])"
      ]
     },
     "execution_count": 144,
     "metadata": {},
     "output_type": "execute_result"
    }
   ],
   "source": [
    "items = (5,5,15,22,30,[1,2,3])\n",
    "items"
   ]
  },
  {
   "cell_type": "code",
   "execution_count": 145,
   "id": "cb1e0ed2",
   "metadata": {},
   "outputs": [
    {
     "data": {
      "text/plain": [
       "(5, 5, 15, 22, 30, [1, 2, 3, 4])"
      ]
     },
     "execution_count": 145,
     "metadata": {},
     "output_type": "execute_result"
    }
   ],
   "source": [
    "items[5].append(4)\n",
    "items"
   ]
  },
  {
   "cell_type": "code",
   "execution_count": 150,
   "id": "5eb84b9d",
   "metadata": {},
   "outputs": [
    {
     "name": "stdout",
     "output_type": "stream",
     "text": [
      "{'can': 5, 'you': 1, 'a': 2, 'as': 1, 'canner': 1, 'i': 1}\n"
     ]
    }
   ],
   "source": [
    "twist = \"can you can a can as a canner can i can\"\n",
    "\n",
    "word_count={}\n",
    "\n",
    "for word in twist.split():\n",
    "    if word not in word_count:\n",
    "        word_count[word] = 1\n",
    "    else:\n",
    "        word_count[word] += 1\n",
    "print(word_count)"
   ]
  },
  {
   "cell_type": "code",
   "execution_count": 151,
   "id": "a501591d",
   "metadata": {},
   "outputs": [
    {
     "name": "stdout",
     "output_type": "stream",
     "text": [
      "defaultdict(<class 'int'>, {'can': 5, 'you': 1, 'a': 2, 'as': 1, 'canner': 1, 'i': 1})\n"
     ]
    }
   ],
   "source": [
    "from collections import defaultdict\n",
    "\n",
    "twist = \"can you can a can as a canner can i can\"\n",
    "\n",
    "word_count=defaultdict(int)\n",
    "\n",
    "for word in twist.split():\n",
    "    word_count[word] += 1\n",
    "print(word_count)"
   ]
  },
  {
   "cell_type": "markdown",
   "id": "d88694f4",
   "metadata": {},
   "source": [
    "# Dict"
   ]
  },
  {
   "cell_type": "code",
   "execution_count": 152,
   "id": "a244f6d0",
   "metadata": {},
   "outputs": [
    {
     "data": {
      "text/plain": [
       "dict"
      ]
     },
     "execution_count": 152,
     "metadata": {},
     "output_type": "execute_result"
    }
   ],
   "source": [
    "items = {\"sanitizer\" : 3, \"mask\" : 5}\n",
    "\n",
    "type(items)"
   ]
  },
  {
   "cell_type": "code",
   "execution_count": 154,
   "id": "77acf3a3",
   "metadata": {},
   "outputs": [
    {
     "data": {
      "text/plain": [
       "dict_keys(['sanitizer', 'mask'])"
      ]
     },
     "execution_count": 154,
     "metadata": {},
     "output_type": "execute_result"
    }
   ],
   "source": [
    "items.keys()"
   ]
  },
  {
   "cell_type": "code",
   "execution_count": 155,
   "id": "9cd10afe",
   "metadata": {},
   "outputs": [
    {
     "data": {
      "text/plain": [
       "dict_values([3, 5])"
      ]
     },
     "execution_count": 155,
     "metadata": {},
     "output_type": "execute_result"
    }
   ],
   "source": [
    "items.values()"
   ]
  },
  {
   "cell_type": "code",
   "execution_count": 156,
   "id": "ec5aa7ed",
   "metadata": {},
   "outputs": [
    {
     "data": {
      "text/plain": [
       "dict_items([('sanitizer', 3), ('mask', 5)])"
      ]
     },
     "execution_count": 156,
     "metadata": {},
     "output_type": "execute_result"
    }
   ],
   "source": [
    "items.items()"
   ]
  },
  {
   "cell_type": "code",
   "execution_count": 157,
   "id": "789b9a08",
   "metadata": {},
   "outputs": [
    {
     "data": {
      "text/plain": [
       "5"
      ]
     },
     "execution_count": 157,
     "metadata": {},
     "output_type": "execute_result"
    }
   ],
   "source": [
    "items.get(\"mask\")"
   ]
  },
  {
   "cell_type": "code",
   "execution_count": 159,
   "id": "f5cd0a10",
   "metadata": {},
   "outputs": [
    {
     "name": "stdout",
     "output_type": "stream",
     "text": [
      "Quantity of sanitizer is :  5\n",
      "Quantity of sanitizer is :  None\n"
     ]
    }
   ],
   "source": [
    "print(\"Quantity of sanitizer is : \", items.get(\"mask\"))\n",
    "print(\"Quantity of sanitizer is : \", items.get(\"Glass\"))"
   ]
  },
  {
   "cell_type": "code",
   "execution_count": 162,
   "id": "d3a87dfd",
   "metadata": {},
   "outputs": [
    {
     "name": "stdout",
     "output_type": "stream",
     "text": [
      "{'order_id': None, 'cust_id': None, 'amount': None}\n"
     ]
    }
   ],
   "source": [
    "tup = ('order_id','cust_id','amount')\n",
    "\n",
    "dict1 = dict.fromkeys(tup)\n",
    "\n",
    "print(dict1)  #dict cannot be represented without either key or value so the missing one will be mentioned as NONE\""
   ]
  },
  {
   "cell_type": "code",
   "execution_count": 173,
   "id": "8c48a5ef",
   "metadata": {},
   "outputs": [
    {
     "name": "stdout",
     "output_type": "stream",
     "text": [
      "{'order_id': 5, 'cust_id': 5, 'amount': 5}\n"
     ]
    }
   ],
   "source": [
    "tup = ('order_id','cust_id','amount')\n",
    "\n",
    "dict1 = dict.fromkeys(tup,5) # 5 will be given as default values for all keys\n",
    "\n",
    "print(dict1)"
   ]
  },
  {
   "cell_type": "code",
   "execution_count": 174,
   "id": "ef848eee",
   "metadata": {},
   "outputs": [
    {
     "data": {
      "text/plain": [
       "{'order_id': 4, 'cust_id': 5, 'amount': 5}"
      ]
     },
     "execution_count": 174,
     "metadata": {},
     "output_type": "execute_result"
    }
   ],
   "source": [
    "tup = {'order_id':5,'cust_id':5,'amount':5}\n",
    "\n",
    "tup['order_id'] = 4\n",
    "tup"
   ]
  },
  {
   "cell_type": "code",
   "execution_count": 175,
   "id": "7a6f4469",
   "metadata": {},
   "outputs": [
    {
     "data": {
      "text/plain": [
       "{'order_id': 4, 'cust_id': 5}"
      ]
     },
     "execution_count": 175,
     "metadata": {},
     "output_type": "execute_result"
    }
   ],
   "source": [
    "del tup['amount']\n",
    "tup"
   ]
  },
  {
   "cell_type": "code",
   "execution_count": 178,
   "id": "91154af1",
   "metadata": {},
   "outputs": [
    {
     "data": {
      "text/plain": [
       "{'hi': 12, 'abc': 1, 'zas': 8}"
      ]
     },
     "execution_count": 178,
     "metadata": {},
     "output_type": "execute_result"
    }
   ],
   "source": [
    "#converting list into dict\n",
    "\n",
    "sort1 = ['hi','abc','zas']\n",
    "sort = [12,1,8]\n",
    "\n",
    "dictionary = dict(zip(sort1,sort))\n",
    "dictionary"
   ]
  },
  {
   "cell_type": "code",
   "execution_count": null,
   "id": "3de5c7f4",
   "metadata": {},
   "outputs": [],
   "source": []
  }
 ],
 "metadata": {
  "kernelspec": {
   "display_name": "Python 3",
   "language": "python",
   "name": "python3"
  },
  "language_info": {
   "codemirror_mode": {
    "name": "ipython",
    "version": 3
   },
   "file_extension": ".py",
   "mimetype": "text/x-python",
   "name": "python",
   "nbconvert_exporter": "python",
   "pygments_lexer": "ipython3",
   "version": "3.8.8"
  }
 },
 "nbformat": 4,
 "nbformat_minor": 5
}
