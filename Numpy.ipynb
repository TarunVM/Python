{
 "cells": [
  {
   "cell_type": "code",
   "execution_count": 1,
   "id": "f5ff4318",
   "metadata": {},
   "outputs": [],
   "source": [
    "import numpy as np"
   ]
  },
  {
   "cell_type": "code",
   "execution_count": 3,
   "id": "f93437c9",
   "metadata": {},
   "outputs": [
    {
     "name": "stdout",
     "output_type": "stream",
     "text": [
      "[23 24 23 24]\n"
     ]
    },
    {
     "data": {
      "text/plain": [
       "numpy.ndarray"
      ]
     },
     "execution_count": 3,
     "metadata": {},
     "output_type": "execute_result"
    }
   ],
   "source": [
    "age = [23,24,23,24]\n",
    "\n",
    "age_array = np.array(age)\n",
    "\n",
    "print(age_array)\n",
    "\n",
    "type(age_array)"
   ]
  },
  {
   "cell_type": "code",
   "execution_count": 5,
   "id": "476a9898",
   "metadata": {},
   "outputs": [
    {
     "name": "stdout",
     "output_type": "stream",
     "text": [
      "['Python' 'R' 'Java' 'SAS']\n"
     ]
    },
    {
     "data": {
      "text/plain": [
       "numpy.ndarray"
      ]
     },
     "execution_count": 5,
     "metadata": {},
     "output_type": "execute_result"
    }
   ],
   "source": [
    "books = np.array([\"Python\",\"R\",\"Java\",\"SAS\"])\n",
    "\n",
    "print(books)\n",
    "type(books)"
   ]
  },
  {
   "cell_type": "code",
   "execution_count": 18,
   "id": "6c577e68",
   "metadata": {},
   "outputs": [
    {
     "data": {
      "text/plain": [
       "array([0.711781  , 0.2332999 , 0.47454929, 0.07365933, 0.88981632,\n",
       "       0.16710433, 0.09139192, 0.39985544, 0.43571966, 0.85590839,\n",
       "       0.20195479, 0.73608713, 0.11758045, 0.6324766 , 0.87195658,\n",
       "       0.67362336, 0.61320397, 0.6512999 , 0.49952266, 0.22888049])"
      ]
     },
     "execution_count": 18,
     "metadata": {},
     "output_type": "execute_result"
    }
   ],
   "source": [
    "np.random.random(20)"
   ]
  },
  {
   "cell_type": "code",
   "execution_count": 22,
   "id": "2fd1250c",
   "metadata": {},
   "outputs": [
    {
     "data": {
      "text/plain": [
       "array([[0.45383636, 0.64434364, 0.52913138],\n",
       "       [0.35295124, 0.3738425 , 0.70222637]])"
      ]
     },
     "execution_count": 22,
     "metadata": {},
     "output_type": "execute_result"
    }
   ],
   "source": [
    "np.random.rand(2,3)"
   ]
  },
  {
   "cell_type": "code",
   "execution_count": 20,
   "id": "af9cdea0",
   "metadata": {},
   "outputs": [
    {
     "data": {
      "text/plain": [
       "array([[-0.64856386,  0.58636511,  0.37917336],\n",
       "       [ 2.52462014,  0.08361205,  1.50743552]])"
      ]
     },
     "execution_count": 20,
     "metadata": {},
     "output_type": "execute_result"
    }
   ],
   "source": [
    "np.random.randn(2,3)  #includes neg values too"
   ]
  },
  {
   "cell_type": "code",
   "execution_count": 23,
   "id": "f513c202",
   "metadata": {},
   "outputs": [
    {
     "data": {
      "text/plain": [
       "8"
      ]
     },
     "execution_count": 23,
     "metadata": {},
     "output_type": "execute_result"
    }
   ],
   "source": [
    "np.random.randint(2,10)"
   ]
  },
  {
   "cell_type": "code",
   "execution_count": 26,
   "id": "c5b3e570",
   "metadata": {},
   "outputs": [
    {
     "data": {
      "text/plain": [
       "array([28, 41, 87, 21, 34, 81, 36, 31, 86, 77])"
      ]
     },
     "execution_count": 26,
     "metadata": {},
     "output_type": "execute_result"
    }
   ],
   "source": [
    "np.random.randint(20,100,10)"
   ]
  },
  {
   "cell_type": "code",
   "execution_count": 45,
   "id": "2c090aa0",
   "metadata": {},
   "outputs": [
    {
     "name": "stdout",
     "output_type": "stream",
     "text": [
      "[10 12 14 16 18 20 22 24 26 28 30 32 34 36 38 40 42 44 46 48 50 52 54 56\n",
      " 58 60 62 64 66 68 70 72 74 76 78 80 82 84 86 88 90 92 94 96 98]\n"
     ]
    },
    {
     "data": {
      "text/plain": [
       "numpy.ndarray"
      ]
     },
     "execution_count": 45,
     "metadata": {},
     "output_type": "execute_result"
    }
   ],
   "source": [
    "arr = np.arange(start = 10, stop = 100,step = 2, dtype = int)\n",
    "\n",
    "print(arr)\n",
    "\n",
    "type(arr)"
   ]
  },
  {
   "cell_type": "code",
   "execution_count": 49,
   "id": "a47fce11",
   "metadata": {},
   "outputs": [
    {
     "name": "stdout",
     "output_type": "stream",
     "text": [
      "[10 12 14 16 18 20 22 24 26 28 30 32 34 36 38 40 42 44 46 48 50 52 54 56\n",
      " 58 60 62 64 66 68 70 72 74 76 78 80 82 84 86 88 90 92 94 96 98]\n"
     ]
    }
   ],
   "source": [
    "arr = np.arange(10, 100, 2, int)\n",
    "print(arr)"
   ]
  },
  {
   "cell_type": "code",
   "execution_count": 50,
   "id": "a98c01fb",
   "metadata": {},
   "outputs": [
    {
     "data": {
      "text/plain": [
       "array([0, 1, 2, 3, 4, 5, 6, 7, 8, 9])"
      ]
     },
     "execution_count": 50,
     "metadata": {},
     "output_type": "execute_result"
    }
   ],
   "source": [
    "np.arange(10)"
   ]
  },
  {
   "cell_type": "code",
   "execution_count": 65,
   "id": "a9b5f062",
   "metadata": {},
   "outputs": [
    {
     "name": "stdout",
     "output_type": "stream",
     "text": [
      "[  1  12  23  34  45  56  67  78  89 100]\n"
     ]
    }
   ],
   "source": [
    "num = np.linspace(start = 1,stop = 100,num = 10,dtype =int)\n",
    "print(num)"
   ]
  },
  {
   "cell_type": "code",
   "execution_count": 67,
   "id": "6eb8dd0d",
   "metadata": {},
   "outputs": [
    {
     "data": {
      "text/plain": [
       "array([0., 0., 0., 0., 0., 0., 0., 0., 0., 0.])"
      ]
     },
     "execution_count": 67,
     "metadata": {},
     "output_type": "execute_result"
    }
   ],
   "source": [
    "np.zeros(10)"
   ]
  },
  {
   "cell_type": "code",
   "execution_count": 68,
   "id": "d6588857",
   "metadata": {},
   "outputs": [
    {
     "data": {
      "text/plain": [
       "array([1., 1., 1., 1., 1., 1., 1., 1., 1., 1.])"
      ]
     },
     "execution_count": 68,
     "metadata": {},
     "output_type": "execute_result"
    }
   ],
   "source": [
    "np.ones(10)"
   ]
  },
  {
   "cell_type": "code",
   "execution_count": 90,
   "id": "3cd932d4",
   "metadata": {},
   "outputs": [
    {
     "name": "stdout",
     "output_type": "stream",
     "text": [
      "[[  1  13  25]\n",
      " [ 38  50  62]\n",
      " [ 75  87 100]]\n"
     ]
    }
   ],
   "source": [
    "matrix=np.empty((3,3),dtype = int)\n",
    "print(matrix)"
   ]
  },
  {
   "cell_type": "code",
   "execution_count": 94,
   "id": "00a508b2",
   "metadata": {},
   "outputs": [
    {
     "name": "stdout",
     "output_type": "stream",
     "text": [
      "[[None None None]\n",
      " [None None None]\n",
      " [None None None]]\n"
     ]
    }
   ],
   "source": [
    "matrix=np.empty((3,3),dtype = object)\n",
    "print(matrix)"
   ]
  },
  {
   "cell_type": "code",
   "execution_count": 97,
   "id": "2ee691c3",
   "metadata": {},
   "outputs": [
    {
     "data": {
      "text/plain": [
       "array([[11, 11, 11],\n",
       "       [11, 11, 11],\n",
       "       [11, 11, 11]])"
      ]
     },
     "execution_count": 97,
     "metadata": {},
     "output_type": "execute_result"
    }
   ],
   "source": [
    "matrix = np.full((3,3),fill_value=11)\n",
    "matrix"
   ]
  },
  {
   "cell_type": "code",
   "execution_count": 107,
   "id": "4f07d583",
   "metadata": {},
   "outputs": [
    {
     "data": {
      "text/plain": [
       "array([[1., 0., 0., 0., 0.],\n",
       "       [0., 1., 0., 0., 0.],\n",
       "       [0., 0., 1., 0., 0.],\n",
       "       [0., 0., 0., 1., 0.],\n",
       "       [0., 0., 0., 0., 1.]])"
      ]
     },
     "execution_count": 107,
     "metadata": {},
     "output_type": "execute_result"
    }
   ],
   "source": [
    "np.identity(5)"
   ]
  },
  {
   "cell_type": "code",
   "execution_count": 108,
   "id": "eb33a488",
   "metadata": {},
   "outputs": [
    {
     "data": {
      "text/plain": [
       "array([[1., 0., 0., 0., 0.],\n",
       "       [0., 1., 0., 0., 0.],\n",
       "       [0., 0., 1., 0., 0.],\n",
       "       [0., 0., 0., 1., 0.],\n",
       "       [0., 0., 0., 0., 1.]])"
      ]
     },
     "execution_count": 108,
     "metadata": {},
     "output_type": "execute_result"
    }
   ],
   "source": [
    "np.eye(N=5,M=5,k=0) #if k=0 then main diagonal"
   ]
  },
  {
   "cell_type": "code",
   "execution_count": 109,
   "id": "64be926e",
   "metadata": {},
   "outputs": [
    {
     "data": {
      "text/plain": [
       "array([[0., 1., 0., 0., 0.],\n",
       "       [0., 0., 1., 0., 0.],\n",
       "       [0., 0., 0., 1., 0.],\n",
       "       [0., 0., 0., 0., 1.],\n",
       "       [0., 0., 0., 0., 0.]])"
      ]
     },
     "execution_count": 109,
     "metadata": {},
     "output_type": "execute_result"
    }
   ],
   "source": [
    "np.eye(N=5,M=5,k=1)  #if k=0 then upper diagonal"
   ]
  },
  {
   "cell_type": "code",
   "execution_count": 110,
   "id": "91aa478f",
   "metadata": {},
   "outputs": [
    {
     "data": {
      "text/plain": [
       "array([[0., 0., 0., 0., 0.],\n",
       "       [1., 0., 0., 0., 0.],\n",
       "       [0., 1., 0., 0., 0.],\n",
       "       [0., 0., 1., 0., 0.],\n",
       "       [0., 0., 0., 1., 0.]])"
      ]
     },
     "execution_count": 110,
     "metadata": {},
     "output_type": "execute_result"
    }
   ],
   "source": [
    "np.eye(N=5,M=5,k=-1)  #if k=0 then lower diagonal"
   ]
  },
  {
   "cell_type": "markdown",
   "id": "bf41cc9a",
   "metadata": {},
   "source": [
    "### Array attributes"
   ]
  },
  {
   "cell_type": "code",
   "execution_count": 123,
   "id": "ec9962bc",
   "metadata": {},
   "outputs": [
    {
     "name": "stdout",
     "output_type": "stream",
     "text": [
      "[['Python' 'Data' 'Scala']\n",
      " ['10' '20' '30']]\n",
      "The shape of the array is  (2, 3)\n"
     ]
    }
   ],
   "source": [
    "#Shape\n",
    "\n",
    "books = np.array([(\"Python\",\"Data\",\"Scala\") , (10,20,30)])\n",
    "print(books)\n",
    "\n",
    "print(\"The shape of the array is \",books.shape)"
   ]
  },
  {
   "cell_type": "code",
   "execution_count": 142,
   "id": "facea6d9",
   "metadata": {},
   "outputs": [
    {
     "name": "stdout",
     "output_type": "stream",
     "text": [
      "The size of the array is  9\n"
     ]
    }
   ],
   "source": [
    "#Size\n",
    "\n",
    "print(\"The size of the array is \",books.size)"
   ]
  },
  {
   "cell_type": "code",
   "execution_count": 141,
   "id": "612ff47b",
   "metadata": {},
   "outputs": [
    {
     "name": "stdout",
     "output_type": "stream",
     "text": [
      "The datatype of the array is  int32\n"
     ]
    }
   ],
   "source": [
    "#Dtype\n",
    "\n",
    "books_new = np.array([10,20,30])\n",
    "\n",
    "print(\"The datatype of the array is \",books_new.dtype)"
   ]
  },
  {
   "cell_type": "code",
   "execution_count": 140,
   "id": "ce44b623",
   "metadata": {},
   "outputs": [
    {
     "name": "stdout",
     "output_type": "stream",
     "text": [
      "The datatype of the array is  float64\n"
     ]
    }
   ],
   "source": [
    "books_new = np.array([(10.3,20.5,30),(1,5,7)])\n",
    "\n",
    "print(\"The datatype of the array is \",books_new.dtype)"
   ]
  },
  {
   "cell_type": "code",
   "execution_count": 139,
   "id": "a58c99b7",
   "metadata": {},
   "outputs": [
    {
     "name": "stdout",
     "output_type": "stream",
     "text": [
      "[['Python' 'Data' 'Scala']\n",
      " ['10' '20' '30']\n",
      " ['10.3' '20.5' '30']]\n",
      "The dimension of the array is  2\n"
     ]
    }
   ],
   "source": [
    "# dimension - ndim\n",
    "\n",
    "books = np.array([(\"Python\",\"Data\",\"Scala\") , (10,20,30) , (10.3,20.5,30)])\n",
    "print(books)\n",
    "\n",
    "print(\"The dimension of the array is \",books.ndim)"
   ]
  },
  {
   "cell_type": "code",
   "execution_count": 138,
   "id": "fb08297a",
   "metadata": {},
   "outputs": [
    {
     "name": "stdout",
     "output_type": "stream",
     "text": [
      "The dimension of the array is  1\n"
     ]
    }
   ],
   "source": [
    "books_new = np.array([10,20,30])\n",
    "\n",
    "print(\"The dimension of the array is \",books_new.ndim)"
   ]
  },
  {
   "cell_type": "markdown",
   "id": "233ef53e",
   "metadata": {},
   "source": [
    "## Array Methods"
   ]
  },
  {
   "cell_type": "code",
   "execution_count": 150,
   "id": "03f6cb46",
   "metadata": {},
   "outputs": [
    {
     "name": "stdout",
     "output_type": "stream",
     "text": [
      "Before reshape : \n",
      " [['Tarun' '23']\n",
      " ['Vandana' '24']\n",
      " ['Tejas' '23']]\n",
      "\n",
      "\n",
      "After reshape : \n",
      " [['Tarun']\n",
      " ['23']\n",
      " ['Vandana']\n",
      " ['24']\n",
      " ['Tejas']\n",
      " ['23']]\n"
     ]
    }
   ],
   "source": [
    "# Reshape\n",
    "\n",
    "emp = np.array([(\"Tarun\",23),(\"Vandana\",24),(\"Tejas\",23)])\n",
    "print(\"Before reshape : \\n\",emp)\n",
    "print(\"\\n\")\n",
    "emp_reshaped = emp.reshape(6,1)\n",
    "print(\"After reshape : \\n\",emp_reshaped)"
   ]
  },
  {
   "cell_type": "markdown",
   "id": "73debe57",
   "metadata": {},
   "source": [
    "## Array indexing & slicing"
   ]
  },
  {
   "cell_type": "code",
   "execution_count": 151,
   "id": "eebf22a3",
   "metadata": {},
   "outputs": [
    {
     "data": {
      "text/plain": [
       "array(['Tejas', '23'], dtype='<U11')"
      ]
     },
     "execution_count": 151,
     "metadata": {},
     "output_type": "execute_result"
    }
   ],
   "source": [
    "emp[-1]"
   ]
  },
  {
   "cell_type": "code",
   "execution_count": 152,
   "id": "8fe39061",
   "metadata": {},
   "outputs": [
    {
     "data": {
      "text/plain": [
       "array(['Vandana', '24'], dtype='<U11')"
      ]
     },
     "execution_count": 152,
     "metadata": {},
     "output_type": "execute_result"
    }
   ],
   "source": [
    "emp[1]"
   ]
  },
  {
   "cell_type": "code",
   "execution_count": 153,
   "id": "c1a78255",
   "metadata": {},
   "outputs": [
    {
     "data": {
      "text/plain": [
       "array([['Tejas', '23'],\n",
       "       ['Vandana', '24'],\n",
       "       ['Tarun', '23']], dtype='<U11')"
      ]
     },
     "execution_count": 153,
     "metadata": {},
     "output_type": "execute_result"
    }
   ],
   "source": [
    "emp[::-1]"
   ]
  },
  {
   "cell_type": "code",
   "execution_count": 155,
   "id": "86bfce3e",
   "metadata": {},
   "outputs": [
    {
     "data": {
      "text/plain": [
       "array([['Tarun', '23'],\n",
       "       ['Vandana', '24']], dtype='<U11')"
      ]
     },
     "execution_count": 155,
     "metadata": {},
     "output_type": "execute_result"
    }
   ],
   "source": [
    "emp[:2]"
   ]
  },
  {
   "cell_type": "code",
   "execution_count": 156,
   "id": "ca2c74ce",
   "metadata": {},
   "outputs": [
    {
     "data": {
      "text/plain": [
       "'Tarun'"
      ]
     },
     "execution_count": 156,
     "metadata": {},
     "output_type": "execute_result"
    }
   ],
   "source": [
    "emp[0][0]"
   ]
  },
  {
   "cell_type": "code",
   "execution_count": 157,
   "id": "68080971",
   "metadata": {},
   "outputs": [
    {
     "data": {
      "text/plain": [
       "'Vandana'"
      ]
     },
     "execution_count": 157,
     "metadata": {},
     "output_type": "execute_result"
    }
   ],
   "source": [
    "emp[1][0]"
   ]
  },
  {
   "cell_type": "code",
   "execution_count": 158,
   "id": "2bcaa1f4",
   "metadata": {},
   "outputs": [
    {
     "data": {
      "text/plain": [
       "'Tejas'"
      ]
     },
     "execution_count": 158,
     "metadata": {},
     "output_type": "execute_result"
    }
   ],
   "source": [
    "emp[2][0]"
   ]
  },
  {
   "cell_type": "code",
   "execution_count": 163,
   "id": "feca75b8",
   "metadata": {},
   "outputs": [
    {
     "name": "stdout",
     "output_type": "stream",
     "text": [
      "[[20 21 22]\n",
      " [23 24 25]\n",
      " [26 27 28]]\n"
     ]
    }
   ],
   "source": [
    "arr = np.array([(20,21,22),(23,24,25),(26,27,28)])\n",
    "print(arr)"
   ]
  },
  {
   "cell_type": "code",
   "execution_count": 166,
   "id": "4654ce5a",
   "metadata": {},
   "outputs": [
    {
     "data": {
      "text/plain": [
       "array([[23, 24],\n",
       "       [26, 27]])"
      ]
     },
     "execution_count": 166,
     "metadata": {},
     "output_type": "execute_result"
    }
   ],
   "source": [
    "arr[1:,0:2]"
   ]
  },
  {
   "cell_type": "code",
   "execution_count": 169,
   "id": "628f4dbe",
   "metadata": {},
   "outputs": [
    {
     "name": "stdout",
     "output_type": "stream",
     "text": [
      "4th and 5th element [43. 92.]\n",
      "every second element [73. 43.]\n",
      "Elements before 93 [73.  68.  55.5 43. ]\n"
     ]
    }
   ],
   "source": [
    "weight = np.array([73,68,55.5,43,92,66])\n",
    "\n",
    "print(\"4th and 5th element\", weight[3:5])\n",
    "print('every second element',weight[0::3])\n",
    "print('Elements before 93',weight[:4])"
   ]
  },
  {
   "cell_type": "code",
   "execution_count": 176,
   "id": "a5d0d507",
   "metadata": {},
   "outputs": [
    {
     "name": "stdout",
     "output_type": "stream",
     "text": [
      "[[73 68 54]\n",
      " [21 36 19]] \n",
      "\n",
      "Elements from first row first two columns [73 68]\n",
      "Elements from second row last two columns [36 19]\n"
     ]
    }
   ],
   "source": [
    "age = np.array([(73,68,54),(21,36,19)])\n",
    "\n",
    "print(age,\"\\n\")\n",
    "\n",
    "print(\"Elements from first row first two columns\",age[0,0:2])\n",
    "\n",
    "print(\"Elements from second row last two columns\",age[1,1:])"
   ]
  },
  {
   "cell_type": "markdown",
   "id": "cb0ad9b4",
   "metadata": {},
   "source": [
    "## Array Operations"
   ]
  },
  {
   "cell_type": "code",
   "execution_count": 179,
   "id": "e88ff041",
   "metadata": {},
   "outputs": [
    {
     "name": "stdout",
     "output_type": "stream",
     "text": [
      "Updated [ 9 18 15 12  6 18]\n"
     ]
    }
   ],
   "source": [
    "arrr = np.array([3,6,5,4,2,6])\n",
    "\n",
    "print('Updated',arrr*3)"
   ]
  },
  {
   "cell_type": "code",
   "execution_count": 182,
   "id": "b07a596f",
   "metadata": {},
   "outputs": [
    {
     "name": "stdout",
     "output_type": "stream",
     "text": [
      "Matrix multiplication : \n",
      " [[ 6  8]\n",
      " [15  6]]\n"
     ]
    }
   ],
   "source": [
    "m1 = np.array([[1,0,2],[4,-2,3]])\n",
    "m2 = np.array([[4,0],[2,3],[1,4]])\n",
    "\n",
    "multi = m1.dot(m2)\n",
    "print(\"Matrix multiplication : \\n\",multi)"
   ]
  },
  {
   "cell_type": "code",
   "execution_count": 193,
   "id": "6178b092",
   "metadata": {},
   "outputs": [
    {
     "name": "stdout",
     "output_type": "stream",
     "text": [
      "[49 36 25 16 81 25]\n"
     ]
    }
   ],
   "source": [
    "weight = np.array([7,6,5,4,9,5])\n",
    "\n",
    "print(np.square(weight))"
   ]
  },
  {
   "cell_type": "code",
   "execution_count": 197,
   "id": "4b0d9f6f",
   "metadata": {},
   "outputs": [
    {
     "name": "stdout",
     "output_type": "stream",
     "text": [
      "[343 216 125  64 729 125]\n"
     ]
    }
   ],
   "source": [
    "print(np.power(weight,3))"
   ]
  },
  {
   "cell_type": "code",
   "execution_count": 203,
   "id": "20bc5a03",
   "metadata": {},
   "outputs": [
    {
     "name": "stdout",
     "output_type": "stream",
     "text": [
      "original : \n",
      " [['Tarun' '23']\n",
      " ['Vathsa' '24']\n",
      " ['Tejas' '23']] \n",
      "\n",
      "Transpose : \n",
      " [['Tarun' 'Vathsa' 'Tejas']\n",
      " ['23' '24' '23']]\n"
     ]
    }
   ],
   "source": [
    "emp = np.array([(\"Tarun\",23),(\"Vathsa\",24),(\"Tejas\",23)])\n",
    "\n",
    "print(\"original : \\n\",emp,\"\\n\")\n",
    "\n",
    "print(\"Transpose : \\n\",np.transpose(emp))"
   ]
  },
  {
   "cell_type": "code",
   "execution_count": 209,
   "id": "fe806ac5",
   "metadata": {},
   "outputs": [
    {
     "name": "stdout",
     "output_type": "stream",
     "text": [
      "Concatenated array : \n",
      " [ 7  6  5  4  9  5 73 68 55 43 92 66]\n"
     ]
    }
   ],
   "source": [
    "age = np.array([7,6,5,4,9,5])\n",
    "weight = np.array([73,68,55,43,92,66])\n",
    "\n",
    "emp = np.concatenate([age,weight])\n",
    "\n",
    "print(\"Concatenated array : \\n\",emp)"
   ]
  },
  {
   "cell_type": "code",
   "execution_count": 216,
   "id": "d9be7c09",
   "metadata": {},
   "outputs": [
    {
     "name": "stdout",
     "output_type": "stream",
     "text": [
      "Concatenated array : \n",
      " [['Tarun' '23']\n",
      " ['Vathsa' '24']\n",
      " ['Tejas' '23']\n",
      " ['Vandana' '24']\n",
      " ['Meghana' '23']]\n"
     ]
    }
   ],
   "source": [
    "emp1 = np.array([(\"Tarun\",23),(\"Vathsa\",24),(\"Tejas\",23)])\n",
    "emp2 = np.array([(\"Vandana\",24),(\"Meghana\",23)])\n",
    "\n",
    "emp_final = np.concatenate([emp1,emp2])\n",
    "\n",
    "print(\"Concatenated array : \\n\",emp_final)"
   ]
  },
  {
   "cell_type": "code",
   "execution_count": 214,
   "id": "bb954e6e",
   "metadata": {},
   "outputs": [
    {
     "name": "stdout",
     "output_type": "stream",
     "text": [
      "Flattened array : \n",
      " ['Tarun' '23' 'Vathsa' '24' 'Tejas' '23' 'Vandana' '24' 'Meghana' '23']\n"
     ]
    }
   ],
   "source": [
    "print('Flattened array : \\n',np.ndarray.flatten(emp_final))"
   ]
  },
  {
   "cell_type": "markdown",
   "id": "56ce8c11",
   "metadata": {},
   "source": [
    "## Iterating through arrays"
   ]
  },
  {
   "cell_type": "code",
   "execution_count": 219,
   "id": "23e6e9b4",
   "metadata": {},
   "outputs": [
    {
     "name": "stdout",
     "output_type": "stream",
     "text": [
      "Python\n",
      "Data\n",
      "Scala\n"
     ]
    }
   ],
   "source": [
    "books = np.array([\"Python\",\"Data\",\"Scala\"])\n",
    "\n",
    "for chapters in books:\n",
    "    print(chapters)"
   ]
  },
  {
   "cell_type": "code",
   "execution_count": 222,
   "id": "371d4011",
   "metadata": {},
   "outputs": [
    {
     "name": "stdout",
     "output_type": "stream",
     "text": [
      "The dimension of the array is : 2 \n",
      "\n",
      "['Python' 'Data' 'Scala']\n",
      "['10' '20' '30']\n",
      "['10.3' '20.5' '30']\n"
     ]
    }
   ],
   "source": [
    "books = np.array([(\"Python\",\"Data\",\"Scala\") , (10,20,30) , (10.3,20.5,30)])\n",
    "\n",
    "print(\"The dimension of the array is :\",books.ndim,\"\\n\")\n",
    "\n",
    "for data in books:\n",
    "    print(data)"
   ]
  },
  {
   "cell_type": "code",
   "execution_count": 226,
   "id": "3005c5b9",
   "metadata": {},
   "outputs": [
    {
     "name": "stdout",
     "output_type": "stream",
     "text": [
      "The dimension of the array is : 2 \n",
      "\n",
      "Python\n",
      "Data\n",
      "Scala\n",
      "10\n",
      "20\n",
      "30\n",
      "10.3\n",
      "20.5\n",
      "30\n"
     ]
    }
   ],
   "source": [
    "books = np.array([(\"Python\",\"Data\",\"Scala\") , (10,20,30) , (10.3,20.5,30)])\n",
    "\n",
    "print(\"The dimension of the array is :\",books.ndim,\"\\n\")\n",
    "\n",
    "for data in books:\n",
    "    for chapter in data:\n",
    "        print(chapter)"
   ]
  },
  {
   "cell_type": "markdown",
   "id": "6ae16633",
   "metadata": {},
   "source": [
    "# Numpy arrays vs Lists (faster)"
   ]
  },
  {
   "cell_type": "code",
   "execution_count": 229,
   "id": "72e845a3",
   "metadata": {},
   "outputs": [],
   "source": [
    "import numpy as np\n",
    "import time\n",
    "\n",
    "size = 1000000"
   ]
  },
  {
   "cell_type": "code",
   "execution_count": 236,
   "id": "8836fbec",
   "metadata": {},
   "outputs": [
    {
     "name": "stdout",
     "output_type": "stream",
     "text": [
      "Time taken by Time :  0.13409805297851562 seconds\n"
     ]
    }
   ],
   "source": [
    "# Lists\n",
    "\n",
    "list1 = range(size)\n",
    "list2 = range(size)\n",
    "\n",
    "InitialTime = time.time()\n",
    "result = [(a*b) for a,b in zip(list1,list2)]\n",
    "\n",
    "print(\"Time taken by Time : \",(time.time() - InitialTime),\"seconds\")"
   ]
  },
  {
   "cell_type": "code",
   "execution_count": 238,
   "id": "2830526f",
   "metadata": {},
   "outputs": [
    {
     "name": "stdout",
     "output_type": "stream",
     "text": [
      "Time taken by Time :  0.0029468536376953125 seconds\n"
     ]
    }
   ],
   "source": [
    "# Numpy\n",
    "\n",
    "list1 = np.arange(size)\n",
    "list2 = np.arange(size)\n",
    "\n",
    "InitialTime = time.time()\n",
    "result = list1 * list2\n",
    "\n",
    "print(\"Time taken by Time : \",(time.time() - InitialTime),\"seconds\")"
   ]
  },
  {
   "cell_type": "code",
   "execution_count": null,
   "id": "021a3f98",
   "metadata": {},
   "outputs": [],
   "source": []
  }
 ],
 "metadata": {
  "kernelspec": {
   "display_name": "Python 3",
   "language": "python",
   "name": "python3"
  },
  "language_info": {
   "codemirror_mode": {
    "name": "ipython",
    "version": 3
   },
   "file_extension": ".py",
   "mimetype": "text/x-python",
   "name": "python",
   "nbconvert_exporter": "python",
   "pygments_lexer": "ipython3",
   "version": "3.8.8"
  }
 },
 "nbformat": 4,
 "nbformat_minor": 5
}
