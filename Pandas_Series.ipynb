{
 "cells": [
  {
   "cell_type": "code",
   "execution_count": 5,
   "id": "1eb49242",
   "metadata": {},
   "outputs": [
    {
     "data": {
      "text/plain": [
       "0    11\n",
       "1    22\n",
       "2    33\n",
       "3    44\n",
       "4    55\n",
       "dtype: int64"
      ]
     },
     "execution_count": 5,
     "metadata": {},
     "output_type": "execute_result"
    }
   ],
   "source": [
    "import pandas as pd\n",
    "\n",
    "age = pd.Series([11,22,33,44,55])\n",
    "age"
   ]
  },
  {
   "cell_type": "code",
   "execution_count": 6,
   "id": "af7dfeb7",
   "metadata": {},
   "outputs": [
    {
     "data": {
      "text/plain": [
       "0    11\n",
       "1    22\n",
       "2    33\n",
       "3    44\n",
       "4    55\n",
       "dtype: int32"
      ]
     },
     "execution_count": 6,
     "metadata": {},
     "output_type": "execute_result"
    }
   ],
   "source": [
    "import pandas as pd\n",
    "import numpy as np\n",
    "\n",
    "age2 = pd.Series(np.array([11,22,33,44,55]))\n",
    "age2"
   ]
  },
  {
   "cell_type": "code",
   "execution_count": 8,
   "id": "5b072692",
   "metadata": {},
   "outputs": [
    {
     "data": {
      "text/plain": [
       "0    11\n",
       "2    22\n",
       "4    33\n",
       "6    44\n",
       "8    55\n",
       "dtype: int32"
      ]
     },
     "execution_count": 8,
     "metadata": {},
     "output_type": "execute_result"
    }
   ],
   "source": [
    "import pandas as pd\n",
    "import numpy as np\n",
    "\n",
    "age3 = pd.Series(np.array([11,22,33,44,55]),index = np.arange(0,10,2))\n",
    "age3"
   ]
  },
  {
   "cell_type": "code",
   "execution_count": 11,
   "id": "d3e41bd2",
   "metadata": {},
   "outputs": [
    {
     "data": {
      "text/plain": [
       "A1    11\n",
       "A2    22\n",
       "A3    33\n",
       "A4    44\n",
       "A5    55\n",
       "dtype: int32"
      ]
     },
     "execution_count": 11,
     "metadata": {},
     "output_type": "execute_result"
    }
   ],
   "source": [
    "import pandas as pd\n",
    "import numpy as np\n",
    "\n",
    "age4 = pd.Series(np.array([11,22,33,44,55]),index = ['A1','A2','A3','A4','A5'])\n",
    "age4"
   ]
  },
  {
   "cell_type": "code",
   "execution_count": 14,
   "id": "c7892849",
   "metadata": {},
   "outputs": [
    {
     "data": {
      "text/plain": [
       "Apple     25\n",
       "Orange    30\n",
       "Mango     40\n",
       "Banana    20\n",
       "dtype: int64"
      ]
     },
     "execution_count": 14,
     "metadata": {},
     "output_type": "execute_result"
    }
   ],
   "source": [
    "prod_dict = {\"Apple\" : 25 , \"Orange\" : 30, \"Mango\": 40, \"Banana\": 20}\n",
    "\n",
    "prod_Series = pd.Series(prod_dict)\n",
    "prod_Series"
   ]
  },
  {
   "cell_type": "code",
   "execution_count": 23,
   "id": "3e0d6ecc",
   "metadata": {},
   "outputs": [
    {
     "name": "stdout",
     "output_type": "stream",
     "text": [
      "A    [English, Hindi, Kannada]\n",
      "B            [Social, Science]\n",
      "C                        Maths\n",
      "dtype: object \n",
      "\n",
      "Index(['A', 'B', 'C'], dtype='object') \n",
      "\n",
      "[list(['English', 'Hindi', 'Kannada']) list(['Social', 'Science']) 'Maths']\n"
     ]
    }
   ],
   "source": [
    "class_dict = { \"A\" : [\"English\",\"Hindi\",\"Kannada\"] , \"B\" : [\"Social\", \"Science\"], \"C\" : \"Maths\"}\n",
    "class_Series = pd.Series(class_dict)\n",
    "\n",
    "print(class_Series,\"\\n\")\n",
    "print(class_Series.index,\"\\n\")\n",
    "print(class_Series.values)"
   ]
  },
  {
   "cell_type": "markdown",
   "id": "1a44162e",
   "metadata": {},
   "source": [
    "## Accessing series elements"
   ]
  },
  {
   "cell_type": "code",
   "execution_count": 49,
   "id": "72833f6b",
   "metadata": {},
   "outputs": [
    {
     "name": "stdout",
     "output_type": "stream",
     "text": [
      "1    A2B2\n",
      "2    A3B3\n",
      "dtype: object\n"
     ]
    }
   ],
   "source": [
    "prod_dict = (\"A1B1\" , \"A2B2\", \"A3B3\", \"A4B4\")\n",
    "\n",
    "prod_Series = pd.Series(prod_dict)\n",
    "print(prod_Series[1:3])"
   ]
  },
  {
   "cell_type": "code",
   "execution_count": 50,
   "id": "d9e29ea4",
   "metadata": {},
   "outputs": [
    {
     "name": "stdout",
     "output_type": "stream",
     "text": [
      "A    [English, Hindi, Kannada]\n",
      "B            [Social, Science]\n",
      "C                        Maths\n",
      "dtype: object \n",
      "\n",
      "['English', 'Hindi', 'Kannada']\n"
     ]
    }
   ],
   "source": [
    "class_dict = { \"A\" : [\"English\",\"Hindi\",\"Kannada\"] , \"B\" : [\"Social\", \"Science\"], \"C\" : \"Maths\"}\n",
    "class_Series = pd.Series(class_dict)\n",
    "\n",
    "print(class_Series,\"\\n\")\n",
    "\n",
    "print(class_Series[\"A\"])"
   ]
  },
  {
   "cell_type": "code",
   "execution_count": 51,
   "id": "22cc64a8",
   "metadata": {},
   "outputs": [
    {
     "name": "stdout",
     "output_type": "stream",
     "text": [
      "A    [English, Hindi, Kannada]\n",
      "B            [Social, Science]\n",
      "dtype: object\n"
     ]
    }
   ],
   "source": [
    "print(class_Series[[\"A\",\"B\"]])"
   ]
  },
  {
   "cell_type": "markdown",
   "id": "aa6fdb4e",
   "metadata": {},
   "source": [
    "## Filtering series"
   ]
  },
  {
   "cell_type": "code",
   "execution_count": 52,
   "id": "e147336b",
   "metadata": {},
   "outputs": [
    {
     "data": {
      "text/plain": [
       "Tarun     450\n",
       "Manish    313\n",
       "Nayan     414\n",
       "dtype: int32"
      ]
     },
     "execution_count": 52,
     "metadata": {},
     "output_type": "execute_result"
    }
   ],
   "source": [
    "student_series = pd.Series(np.array([450,129,313,414,215]),index=[\"Tarun\",\"Tejas\",\"Manish\",\"Nayan\",\"Tanu\"])\n",
    "\n",
    "student_series[student_series>300]"
   ]
  },
  {
   "cell_type": "markdown",
   "id": "25c59266",
   "metadata": {},
   "source": [
    "## Arithmetic operations"
   ]
  },
  {
   "cell_type": "code",
   "execution_count": 55,
   "id": "1ee25199",
   "metadata": {},
   "outputs": [
    {
     "data": {
      "text/plain": [
       "0     220\n",
       "1     440\n",
       "2     660\n",
       "3     880\n",
       "4    1100\n",
       "dtype: int32"
      ]
     },
     "execution_count": 55,
     "metadata": {},
     "output_type": "execute_result"
    }
   ],
   "source": [
    "arr = np.array([11,22,33,44,55])   # multiplication using (*) operator\n",
    "age2 = pd.Series(arr)\n",
    "age2*20"
   ]
  },
  {
   "cell_type": "code",
   "execution_count": 57,
   "id": "22137a8d",
   "metadata": {},
   "outputs": [
    {
     "data": {
      "text/plain": [
       "0    120\n",
       "1    300\n",
       "2    510\n",
       "dtype: int64"
      ]
     },
     "execution_count": 57,
     "metadata": {},
     "output_type": "execute_result"
    }
   ],
   "source": [
    "MRP = pd.Series([12,15,17])       #multiply() method\n",
    "Quantity = pd.Series([10,20,30])\n",
    "\n",
    "total_amt = pd.Series(MRP.multiply(Quantity))\n",
    "total_amt"
   ]
  },
  {
   "cell_type": "code",
   "execution_count": 58,
   "id": "9fae5909",
   "metadata": {},
   "outputs": [
    {
     "data": {
      "text/plain": [
       "0    22\n",
       "1    35\n",
       "2    47\n",
       "dtype: int64"
      ]
     },
     "execution_count": 58,
     "metadata": {},
     "output_type": "execute_result"
    }
   ],
   "source": [
    "MRP = pd.Series([12,15,17])\n",
    "Quantity = pd.Series([10,20,30])\n",
    "\n",
    "total_amt = MRP + Quantity\n",
    "total_amt"
   ]
  },
  {
   "cell_type": "code",
   "execution_count": 60,
   "id": "6732b334",
   "metadata": {},
   "outputs": [
    {
     "data": {
      "text/plain": [
       "0    130.0\n",
       "1    170.0\n",
       "2      NaN\n",
       "dtype: float64"
      ]
     },
     "execution_count": 60,
     "metadata": {},
     "output_type": "execute_result"
    }
   ],
   "source": [
    "MRP = pd.Series([120,150,170])  #One value is missing in 2nd list so we get NaN\n",
    "Quantity = pd.Series([10,20])\n",
    "\n",
    "total_amt = MRP + Quantity\n",
    "total_amt"
   ]
  },
  {
   "cell_type": "markdown",
   "id": "40238f84",
   "metadata": {},
   "source": [
    "## Series Ranking and Sorting"
   ]
  },
  {
   "cell_type": "code",
   "execution_count": 81,
   "id": "dbcec92d",
   "metadata": {},
   "outputs": [
    {
     "data": {
      "text/plain": [
       "0     6.0\n",
       "1     1.0\n",
       "2     7.0\n",
       "3     8.0\n",
       "4     2.0\n",
       "5     3.0\n",
       "6    10.0\n",
       "7     4.0\n",
       "8     9.0\n",
       "9     5.0\n",
       "dtype: float64"
      ]
     },
     "execution_count": 81,
     "metadata": {},
     "output_type": "execute_result"
    }
   ],
   "source": [
    "Score_array = np.array([121,21,153,214,115,116,237,118,219,120])\n",
    "score=pd.Series(Score_array)\n",
    "score.rank()"
   ]
  },
  {
   "cell_type": "code",
   "execution_count": 82,
   "id": "93357219",
   "metadata": {},
   "outputs": [
    {
     "data": {
      "text/plain": [
       "4    115.0\n",
       "5    116.0\n",
       "7    118.0\n",
       "9    120.0\n",
       "0    121.0\n",
       "2    153.0\n",
       "3    214.0\n",
       "8    219.0\n",
       "1      NaN\n",
       "6      NaN\n",
       "dtype: float64"
      ]
     },
     "execution_count": 82,
     "metadata": {},
     "output_type": "execute_result"
    }
   ],
   "source": [
    "Score_array1 = np.array([121,np.nan,153,214,115,116,np.nan,118,219,120])\n",
    "score1=pd.Series(Score_array1)\n",
    "score1.sort_values(ascending = True,na_position='last')  #or first"
   ]
  },
  {
   "cell_type": "code",
   "execution_count": 91,
   "id": "4c6ee967",
   "metadata": {},
   "outputs": [
    {
     "name": "stdout",
     "output_type": "stream",
     "text": [
      "110    121.0\n",
      "101      NaN\n",
      "100    153.0\n",
      "104    214.0\n",
      "102    115.0\n",
      "105    116.0\n",
      "107      NaN\n",
      "108    118.0\n",
      "103    219.0\n",
      "106    120.0\n",
      "dtype: float64\n"
     ]
    },
    {
     "data": {
      "text/plain": [
       "100    153.0\n",
       "101      NaN\n",
       "102    115.0\n",
       "103    219.0\n",
       "104    214.0\n",
       "105    116.0\n",
       "106    120.0\n",
       "107      NaN\n",
       "108    118.0\n",
       "110    121.0\n",
       "dtype: float64"
      ]
     },
     "execution_count": 91,
     "metadata": {},
     "output_type": "execute_result"
    }
   ],
   "source": [
    "Score_array2 = np.array([121,np.nan,153,214,115,116,np.nan,118,219,120])\n",
    "score2=pd.Series(Score_array2,index=[110,101,100,104,102,105,107,108,103,106])\n",
    "print(score2)\n",
    "\n",
    "score2.sort_index(ascending = True)"
   ]
  },
  {
   "cell_type": "markdown",
   "id": "b510d520",
   "metadata": {},
   "source": [
    "## Checking Null values"
   ]
  },
  {
   "cell_type": "code",
   "execution_count": 93,
   "id": "85a12c39",
   "metadata": {},
   "outputs": [
    {
     "data": {
      "text/plain": [
       "0    False\n",
       "1     True\n",
       "2    False\n",
       "3    False\n",
       "4    False\n",
       "5    False\n",
       "6     True\n",
       "7    False\n",
       "8    False\n",
       "9    False\n",
       "dtype: bool"
      ]
     },
     "execution_count": 93,
     "metadata": {},
     "output_type": "execute_result"
    }
   ],
   "source": [
    "Score_array2 = pd.Series([121,np.nan,153,214,115,116,np.nan,118,219,120])\n",
    "\n",
    "Score_array2.isnull()"
   ]
  },
  {
   "cell_type": "code",
   "execution_count": 95,
   "id": "6c23577e",
   "metadata": {},
   "outputs": [
    {
     "data": {
      "text/plain": [
       "0     True\n",
       "1    False\n",
       "2     True\n",
       "3     True\n",
       "4     True\n",
       "5     True\n",
       "6    False\n",
       "7     True\n",
       "8     True\n",
       "9     True\n",
       "dtype: bool"
      ]
     },
     "execution_count": 95,
     "metadata": {},
     "output_type": "execute_result"
    }
   ],
   "source": [
    "Score_array2.notnull()"
   ]
  },
  {
   "cell_type": "markdown",
   "id": "445d95ae",
   "metadata": {},
   "source": [
    "## Concatenate Series"
   ]
  },
  {
   "cell_type": "code",
   "execution_count": 105,
   "id": "87c05cb0",
   "metadata": {},
   "outputs": [
    {
     "data": {
      "text/plain": [
       "0      0.0\n",
       "1      2.0\n",
       "2      4.0\n",
       "3      6.0\n",
       "4      8.0\n",
       "5     10.0\n",
       "6     12.0\n",
       "7     14.0\n",
       "8     16.0\n",
       "9     18.0\n",
       "10    20.0\n",
       "0      1.0\n",
       "1      3.0\n",
       "2      5.0\n",
       "3      7.0\n",
       "4      9.0\n",
       "5     11.0\n",
       "6     13.0\n",
       "7     15.0\n",
       "8     17.0\n",
       "9     19.0\n",
       "10    21.0\n",
       "dtype: float64"
      ]
     },
     "execution_count": 105,
     "metadata": {},
     "output_type": "execute_result"
    }
   ],
   "source": [
    "class1 = np.linspace(start = 0, stop = 20, num = 11)\n",
    "class2 = np.linspace(1,21,11)\n",
    "\n",
    "class1_series = pd.Series(class1)\n",
    "class2_series = pd.Series(class2)\n",
    "\n",
    "pd.concat([class1_series,class2_series])"
   ]
  },
  {
   "cell_type": "code",
   "execution_count": 106,
   "id": "d7ca2c21",
   "metadata": {},
   "outputs": [
    {
     "data": {
      "text/plain": [
       "Category  Index\n",
       "Even      0         0.0\n",
       "          1         2.0\n",
       "          2         4.0\n",
       "          3         6.0\n",
       "          4         8.0\n",
       "          5        10.0\n",
       "          6        12.0\n",
       "          7        14.0\n",
       "          8        16.0\n",
       "          9        18.0\n",
       "          10       20.0\n",
       "Odd       0         1.0\n",
       "          1         3.0\n",
       "          2         5.0\n",
       "          3         7.0\n",
       "          4         9.0\n",
       "          5        11.0\n",
       "          6        13.0\n",
       "          7        15.0\n",
       "          8        17.0\n",
       "          9        19.0\n",
       "          10       21.0\n",
       "dtype: float64"
      ]
     },
     "execution_count": 106,
     "metadata": {},
     "output_type": "execute_result"
    }
   ],
   "source": [
    "#Hierarchical index and label the index\n",
    "\n",
    "pd.concat([class1_series,class2_series] , keys=['Even','Odd'], names = ['Category','Index'])"
   ]
  },
  {
   "cell_type": "code",
   "execution_count": 107,
   "id": "42e414df",
   "metadata": {},
   "outputs": [
    {
     "data": {
      "text/plain": [
       "0      0.0\n",
       "1      2.0\n",
       "2      4.0\n",
       "3      6.0\n",
       "4      8.0\n",
       "5     10.0\n",
       "6     12.0\n",
       "7     14.0\n",
       "8     16.0\n",
       "9     18.0\n",
       "10    20.0\n",
       "0      1.0\n",
       "1      3.0\n",
       "2      5.0\n",
       "3      7.0\n",
       "4      9.0\n",
       "5     11.0\n",
       "6     13.0\n",
       "7     15.0\n",
       "8     17.0\n",
       "9     19.0\n",
       "10    21.0\n",
       "dtype: float64"
      ]
     },
     "execution_count": 107,
     "metadata": {},
     "output_type": "execute_result"
    }
   ],
   "source": [
    "class1_series.append(class2_series)"
   ]
  },
  {
   "cell_type": "code",
   "execution_count": 108,
   "id": "f45942a1",
   "metadata": {},
   "outputs": [
    {
     "data": {
      "text/plain": [
       "0      0.0\n",
       "1      2.0\n",
       "2      4.0\n",
       "3      6.0\n",
       "4      8.0\n",
       "5     10.0\n",
       "6     12.0\n",
       "7     14.0\n",
       "8     16.0\n",
       "9     18.0\n",
       "10    20.0\n",
       "11     1.0\n",
       "12     3.0\n",
       "13     5.0\n",
       "14     7.0\n",
       "15     9.0\n",
       "16    11.0\n",
       "17    13.0\n",
       "18    15.0\n",
       "19    17.0\n",
       "20    19.0\n",
       "21    21.0\n",
       "dtype: float64"
      ]
     },
     "execution_count": 108,
     "metadata": {},
     "output_type": "execute_result"
    }
   ],
   "source": [
    "class1_series.append(class2_series,ignore_index=True)"
   ]
  },
  {
   "cell_type": "code",
   "execution_count": null,
   "id": "f1cbcaab",
   "metadata": {},
   "outputs": [],
   "source": []
  }
 ],
 "metadata": {
  "kernelspec": {
   "display_name": "Python 3",
   "language": "python",
   "name": "python3"
  },
  "language_info": {
   "codemirror_mode": {
    "name": "ipython",
    "version": 3
   },
   "file_extension": ".py",
   "mimetype": "text/x-python",
   "name": "python",
   "nbconvert_exporter": "python",
   "pygments_lexer": "ipython3",
   "version": "3.8.8"
  }
 },
 "nbformat": 4,
 "nbformat_minor": 5
}
