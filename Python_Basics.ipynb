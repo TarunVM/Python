{
 "cells": [
  {
   "cell_type": "code",
   "execution_count": 46,
   "id": "905e049d",
   "metadata": {},
   "outputs": [
    {
     "name": "stdout",
     "output_type": "stream",
     "text": [
      "Hello\n"
     ]
    }
   ],
   "source": [
    "print ('Hello')"
   ]
  },
  {
   "cell_type": "code",
   "execution_count": 47,
   "id": "ab9e72b5",
   "metadata": {
    "scrolled": true
   },
   "outputs": [
    {
     "name": "stdout",
     "output_type": "stream",
     "text": [
      "<class 'bool'>\n"
     ]
    }
   ],
   "source": [
    "a=1.2 #float\n",
    "x=20  #int\n",
    "print(type(z))\n",
    "y = 'Hi'  #char/string\n",
    "z = True  #boolean\n"
   ]
  },
  {
   "cell_type": "code",
   "execution_count": 50,
   "id": "dd6ddd60",
   "metadata": {},
   "outputs": [
    {
     "name": "stdout",
     "output_type": "stream",
     "text": [
      "23\n",
      "Hi World World World\n"
     ]
    }
   ],
   "source": [
    "if y=='Hello' or a==1.2:\n",
    "    x=x+1\n",
    "    y=y+' World'\n",
    "print(x)\n",
    "print(y)"
   ]
  },
  {
   "cell_type": "code",
   "execution_count": 52,
   "id": "143f32d7",
   "metadata": {},
   "outputs": [
    {
     "name": "stdout",
     "output_type": "stream",
     "text": [
      "12\n"
     ]
    }
   ],
   "source": [
    "a=10\n",
    "a=11\n",
    "a=12\n",
    "print(a)"
   ]
  },
  {
   "cell_type": "code",
   "execution_count": 54,
   "id": "c5e7222e",
   "metadata": {},
   "outputs": [
    {
     "name": "stdout",
     "output_type": "stream",
     "text": [
      "Tarun\n"
     ]
    }
   ],
   "source": [
    "name=(\"Tarun\")\n",
    "org_name=name\n",
    "print(org_name)"
   ]
  },
  {
   "cell_type": "code",
   "execution_count": 63,
   "id": "0fe51edc",
   "metadata": {},
   "outputs": [
    {
     "name": "stdout",
     "output_type": "stream",
     "text": [
      "Total obtained marks by Tarun -  50\n",
      "Total obtained marks by vathsa -  50\n",
      "Total obtained marks by Tejas -  50\n"
     ]
    }
   ],
   "source": [
    "tarun=tejas=vathsa=50\n",
    "print('Total obtained marks by Tarun - ',tarun)\n",
    "print('Total obtained marks by vathsa - ',vathsa)\n",
    "print('Total obtained marks by Tejas - ',tejas)"
   ]
  },
  {
   "cell_type": "code",
   "execution_count": 65,
   "id": "6a8a8287",
   "metadata": {},
   "outputs": [
    {
     "name": "stdout",
     "output_type": "stream",
     "text": [
      "Total obtained marks by Tarun -  50\n",
      "Total obtained marks by vathsa -  45\n",
      "Total obtained marks by Tejas -  48\n"
     ]
    }
   ],
   "source": [
    "tarun,tejas,vathsa=50,48,45\n",
    "print('Total obtained marks by Tarun - ',tarun)\n",
    "print('Total obtained marks by vathsa - ',vathsa)\n",
    "print('Total obtained marks by Tejas - ',tejas)"
   ]
  },
  {
   "cell_type": "code",
   "execution_count": 66,
   "id": "a47301ae",
   "metadata": {},
   "outputs": [],
   "source": [
    "x=4*6"
   ]
  },
  {
   "cell_type": "code",
   "execution_count": 67,
   "id": "980652ba",
   "metadata": {},
   "outputs": [
    {
     "data": {
      "text/plain": [
       "24"
      ]
     },
     "execution_count": 67,
     "metadata": {},
     "output_type": "execute_result"
    }
   ],
   "source": [
    "x"
   ]
  },
  {
   "cell_type": "code",
   "execution_count": 74,
   "id": "81003257",
   "metadata": {},
   "outputs": [
    {
     "name": "stdout",
     "output_type": "stream",
     "text": [
      "11.25\n"
     ]
    }
   ],
   "source": [
    "P = 125\n",
    "T = 1.5\n",
    "R = 6\n",
    "\n",
    "Simple_int = (P*T*R)/100\n",
    "\n",
    "print(Simple_int)"
   ]
  },
  {
   "cell_type": "markdown",
   "id": "5d883222",
   "metadata": {},
   "source": [
    "## primitive data types are string,boolean,int,float,numeric\n",
    "\n",
    "## collection data types are list,tuple,dict,set"
   ]
  },
  {
   "cell_type": "code",
   "execution_count": 10,
   "id": "bc5ef79d",
   "metadata": {},
   "outputs": [
    {
     "name": "stdout",
     "output_type": "stream",
     "text": [
      "character\n"
     ]
    },
    {
     "data": {
      "text/plain": [
       "str"
      ]
     },
     "execution_count": 10,
     "metadata": {},
     "output_type": "execute_result"
    }
   ],
   "source": [
    "char = 'character'\n",
    "\n",
    "print(char)\n",
    "\n",
    "type(char)"
   ]
  },
  {
   "cell_type": "code",
   "execution_count": 80,
   "id": "6cd79a4c",
   "metadata": {},
   "outputs": [
    {
     "name": "stdout",
     "output_type": "stream",
     "text": [
      "5\n"
     ]
    },
    {
     "data": {
      "text/plain": [
       "int"
      ]
     },
     "execution_count": 80,
     "metadata": {},
     "output_type": "execute_result"
    }
   ],
   "source": [
    "int = 5 \n",
    "\n",
    "print (int)\n",
    "\n",
    "type(int)"
   ]
  },
  {
   "cell_type": "code",
   "execution_count": 81,
   "id": "069f11da",
   "metadata": {},
   "outputs": [
    {
     "name": "stdout",
     "output_type": "stream",
     "text": [
      "1.25\n"
     ]
    },
    {
     "data": {
      "text/plain": [
       "float"
      ]
     },
     "execution_count": 81,
     "metadata": {},
     "output_type": "execute_result"
    }
   ],
   "source": [
    "float = 1.250\n",
    "\n",
    "print(float)\n",
    "\n",
    "type(float)"
   ]
  },
  {
   "cell_type": "code",
   "execution_count": 83,
   "id": "0e205e2e",
   "metadata": {},
   "outputs": [
    {
     "name": "stdout",
     "output_type": "stream",
     "text": [
      "True\n"
     ]
    },
    {
     "data": {
      "text/plain": [
       "bool"
      ]
     },
     "execution_count": 83,
     "metadata": {},
     "output_type": "execute_result"
    }
   ],
   "source": [
    "a = True\n",
    "\n",
    "print(a)\n",
    "\n",
    "type(a)"
   ]
  },
  {
   "cell_type": "code",
   "execution_count": 1,
   "id": "422a39c4",
   "metadata": {},
   "outputs": [
    {
     "data": {
      "text/plain": [
       "30"
      ]
     },
     "execution_count": 1,
     "metadata": {},
     "output_type": "execute_result"
    }
   ],
   "source": [
    "a=10\n",
    "b='20'\n",
    "result=a+int(b)\n",
    "result"
   ]
  },
  {
   "cell_type": "code",
   "execution_count": 5,
   "id": "c881f257",
   "metadata": {},
   "outputs": [
    {
     "name": "stdout",
     "output_type": "stream",
     "text": [
      "<class 'str'>\n",
      "<class 'str'>\n"
     ]
    },
    {
     "data": {
      "text/plain": [
       "float"
      ]
     },
     "execution_count": 5,
     "metadata": {},
     "output_type": "execute_result"
    }
   ],
   "source": [
    "a = 5\n",
    "b = '5.5'\n",
    "print(type(b))\n",
    "float_f = a + float(b)\n",
    "print(type(b))\n",
    "float_f\n",
    "typetype(float_f)"
   ]
  },
  {
   "cell_type": "code",
   "execution_count": 9,
   "id": "521b4f04",
   "metadata": {},
   "outputs": [
    {
     "name": "stdout",
     "output_type": "stream",
     "text": [
      "<class 'int'>\n",
      "<class 'str'>\n"
     ]
    },
    {
     "data": {
      "text/plain": [
       "float"
      ]
     },
     "execution_count": 9,
     "metadata": {},
     "output_type": "execute_result"
    }
   ],
   "source": [
    "print(type(a))\n",
    "print(type(b))\n",
    "\n",
    "c = a*float(b)\n",
    "c\n",
    "type(c)"
   ]
  },
  {
   "cell_type": "markdown",
   "id": "dc8ecd71",
   "metadata": {},
   "source": [
    "# Type of casting\n",
    "# int()\n",
    "# float()\n",
    "# str()\n",
    "# bool()"
   ]
  },
  {
   "cell_type": "code",
   "execution_count": 11,
   "id": "e34e8545",
   "metadata": {},
   "outputs": [
    {
     "name": "stdout",
     "output_type": "stream",
     "text": [
      "Enter your nameTarun\n",
      "Welcome  Tarun\n"
     ]
    }
   ],
   "source": [
    "Name = input(\"Enter your name\")\n",
    "print(\"Welcome \",Name)"
   ]
  },
  {
   "cell_type": "code",
   "execution_count": null,
   "id": "6c85980f",
   "metadata": {},
   "outputs": [],
   "source": []
  },
  {
   "cell_type": "code",
   "execution_count": 19,
   "id": "3620aa94",
   "metadata": {},
   "outputs": [
    {
     "name": "stdout",
     "output_type": "stream",
     "text": [
      "India India India \n"
     ]
    }
   ],
   "source": [
    "a = 'India '\n",
    "b =  3\n",
    "c = a * b\n",
    "print(c)"
   ]
  },
  {
   "cell_type": "code",
   "execution_count": null,
   "id": "1af0b729",
   "metadata": {},
   "outputs": [],
   "source": []
  },
  {
   "cell_type": "code",
   "execution_count": null,
   "id": "0df8cb84",
   "metadata": {},
   "outputs": [],
   "source": []
  },
  {
   "cell_type": "code",
   "execution_count": null,
   "id": "701ec1e0",
   "metadata": {},
   "outputs": [],
   "source": []
  }
 ],
 "metadata": {
  "kernelspec": {
   "display_name": "Python 3",
   "language": "python",
   "name": "python3"
  },
  "language_info": {
   "codemirror_mode": {
    "name": "ipython",
    "version": 3
   },
   "file_extension": ".py",
   "mimetype": "text/x-python",
   "name": "python",
   "nbconvert_exporter": "python",
   "pygments_lexer": "ipython3",
   "version": "3.8.8"
  }
 },
 "nbformat": 4,
 "nbformat_minor": 5
}
